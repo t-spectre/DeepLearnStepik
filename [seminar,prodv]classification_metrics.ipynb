{
  "nbformat": 4,
  "nbformat_minor": 0,
  "metadata": {
    "kernelspec": {
      "display_name": "Python 3",
      "language": "python",
      "name": "python3"
    },
    "language_info": {
      "codemirror_mode": {
        "name": "ipython",
        "version": 3
      },
      "file_extension": ".py",
      "mimetype": "text/x-python",
      "name": "python",
      "nbconvert_exporter": "python",
      "pygments_lexer": "ipython3",
      "version": "3.7.3"
    },
    "colab": {
      "name": "[seminar,prodv]classification_metrics.ipynb",
      "provenance": [],
      "collapsed_sections": [],
      "toc_visible": true,
      "include_colab_link": true
    }
  },
  "cells": [
    {
      "cell_type": "markdown",
      "metadata": {
        "id": "view-in-github",
        "colab_type": "text"
      },
      "source": [
        "<a href=\"https://colab.research.google.com/github/t-spectre/DeepLearnStepik/blob/master/%5Bseminar%2Cprodv%5Dclassification_metrics.ipynb\" target=\"_parent\"><img src=\"https://colab.research.google.com/assets/colab-badge.svg\" alt=\"Open In Colab\"/></a>"
      ]
    },
    {
      "cell_type": "markdown",
      "metadata": {
        "id": "2Jrdln-ZZ7D5",
        "colab_type": "text"
      },
      "source": [
        "<p style=\"align: center;\"><img align=center src=\"https://s8.hostingkartinok.com/uploads/images/2018/08/308b49fcfbc619d629fe4604bceb67ac.jpg\" width=500 height=450/></p>\n",
        "\n",
        "<h3 style=\"text-align: center;\"><b>\"Глубокое обучение\". Продвинутый поток</b></h3>\n",
        "\n",
        "<h2 style=\"text-align: center;\"><b>Семинар 5. Метрики в задаче классификации</b></h2>\n",
        "\n",
        "Две основные задачи машинного обучения --- классификация и регрессия. C метрикой для задачи регрессии всё ясно: квадратичная функция потерь, $$f(y_{true}, y_{pred}) = (y_{true} - y_{pred})^2.$$\n",
        "\n",
        "Метрик в задаче классификации можно придумать великое множество.\n",
        "\n",
        "## Метрики, связанные с бинарными лейблами"
      ]
    },
    {
      "cell_type": "markdown",
      "metadata": {
        "id": "aaqH7IHIZ7D8",
        "colab_type": "text"
      },
      "source": [
        "Предположим, что мы решаем задачу кредитного скоринга (решаем, кому выдавать кредит, кому нет). Мы получили следующие ответы алгоритма: \n",
        "![alt text](https://drive.google.com/uc?id=1TvLmB3dHCAyuE6XHB33PGyjF0cfRHnrg)"
      ]
    },
    {
      "cell_type": "markdown",
      "metadata": {
        "id": "B58qNQdoZ7D9",
        "colab_type": "text"
      },
      "source": [
        "Самое логичное решение для измерения качества --- посчитать процент совпадающих ответов. Такая метрика называется accuracy. В данном случае accuracy равна 60%. Плохо или хорошо?\n",
        "\n",
        "\"\n",
        "\n",
        "\"\n",
        "\n",
        "\"\n",
        "\n",
        "\"\n",
        "\n",
        "\"\n",
        "\n",
        "\"\n",
        "\n",
        "\"\n",
        "\n",
        "\"\n",
        "\n",
        "\"\n",
        "\n",
        "\"\n",
        "\n",
        "\"\n",
        "\n",
        "\"\n",
        "\n",
        "\"\n",
        "\n",
        "\"\n",
        "\n",
        "\"\n",
        "\n",
        "Тут приходит к нам новый сотрудник и заявляет, что повысит accuracy на 10%. Он предъявляет такой результат на тесте:\n",
        "\n",
        "![alt text](https://drive.google.com/uc?id=1jHgOXZ-XWtuuqSwG1L7CEK-goggBS3hB)\n",
        "\n",
        "Accuracy повысилась! Но теперь банк выдаёт кредит всем заёмщикам. Вывод: для многих задач нужны другие метрики. Их разработкой мы и займёмся."
      ]
    },
    {
      "cell_type": "markdown",
      "metadata": {
        "id": "7-P0ekLfZ7D-",
        "colab_type": "text"
      },
      "source": [
        "![alt text](https://drive.google.com/uc?id=1U8t8CVtBD-3PJJsi8oAQjrdTGEjZCnpu)"
      ]
    },
    {
      "cell_type": "markdown",
      "metadata": {
        "id": "H2Bst42YZ7EA",
        "colab_type": "text"
      },
      "source": [
        "![alt text](https://drive.google.com/uc?id=1AfL-bqkd1lN66Fp1MJ70OxMMeVGwsn72)"
      ]
    },
    {
      "cell_type": "markdown",
      "metadata": {
        "id": "cUY-4Ru_Z7EA",
        "colab_type": "text"
      },
      "source": [
        "![alt text](https://drive.google.com/uc?id=1pNhgPjEiirfwelo2GrkYU5UlQwr2xwgd)"
      ]
    },
    {
      "cell_type": "markdown",
      "metadata": {
        "id": "Kfu9H_hBZ7EC",
        "colab_type": "text"
      },
      "source": [
        "### Precision\n",
        "Пример для Precision: кредитный скоринг. Нам не выгодно выдавать кредит (y_pred = 1) неблагонадёжным заёмщикам (y_true = 0). За такие ошибки (ошибки первого рода) нас штрафует метрика.\n",
        "\n",
        "\n",
        "### Recall\n",
        "Пример для Recall: поиск скрытых военных баз противника. Опасна ситуация, когда опасный объект (y_true = 1) не был идентифицирован как военная база (y_pred = 0)."
      ]
    },
    {
      "cell_type": "markdown",
      "metadata": {
        "id": "Qf23ZYqdZ7ED",
        "colab_type": "text"
      },
      "source": [
        "![alt text](https://drive.google.com/uc?id=1rqlgJdt62ZYQrqVYh4QJnHzW_5RgOnvS)"
      ]
    },
    {
      "cell_type": "markdown",
      "metadata": {
        "id": "I0Wa1oF9Z7EE",
        "colab_type": "text"
      },
      "source": [
        "### F-мера\n",
        "Комбинация precision и recall:\n",
        "\n",
        "![alt text](https://drive.google.com/uc?id=1XR8VW8To2K_6QL0xz2V5xnjkGVcBYPvB)"
      ]
    },
    {
      "cell_type": "markdown",
      "metadata": {
        "id": "AhSrR3R-Z7EF",
        "colab_type": "text"
      },
      "source": [
        "## Метрики, связанные с вероятностными ответами\n",
        "\n",
        "Мы уже сталкивались с алгоритмами, которые предсказывают не класс, а вероятность принадлежности к классу (например, линейная регрессия). Хотим ввести метрику, которая бы отражала качество такой \"вероятностной классификации\"."
      ]
    },
    {
      "cell_type": "markdown",
      "metadata": {
        "id": "8B_q6Tg_H0ad",
        "colab_type": "text"
      },
      "source": [
        "## ROC-кривая\n",
        "\n",
        "<img src=\"https://i.ibb.co/mvF5F8K/Screenshot-from-2020-03-17-22-03-26.png\" alt=\"Screenshot-from-2020-03-17-22-03-26\" border=\"0\" width=800>"
      ]
    },
    {
      "cell_type": "markdown",
      "metadata": {
        "id": "F8c0T7sC5PtO",
        "colab_type": "text"
      },
      "source": [
        "## ROC-AUC\n",
        "\n",
        "Метрика ROC-AUC определяется как площадь под ROC-кривой."
      ]
    },
    {
      "cell_type": "code",
      "metadata": {
        "id": "gFX1e-GYZ7EG",
        "colab_type": "code",
        "colab": {}
      },
      "source": [
        "import numpy as np"
      ],
      "execution_count": 0,
      "outputs": []
    },
    {
      "cell_type": "code",
      "metadata": {
        "id": "r5Q_WXbL5gIc",
        "colab_type": "code",
        "colab": {}
      },
      "source": [
        "y_true = [1,1,0,1,1,1,1,0,1,0,1,0,0,0,1,0,0,0]\n",
        "y_pred = np.linspace(1, 0, len(y_true))"
      ],
      "execution_count": 0,
      "outputs": []
    },
    {
      "cell_type": "code",
      "metadata": {
        "id": "fYTVjVbh5uw7",
        "colab_type": "code",
        "colab": {}
      },
      "source": [
        "from sklearn.metrics import roc_curve, roc_auc_score\n",
        "import matplotlib.pyplot as plt\n",
        "%matplotlib inline"
      ],
      "execution_count": 0,
      "outputs": []
    },
    {
      "cell_type": "code",
      "metadata": {
        "id": "SSwmIiti6ADJ",
        "colab_type": "code",
        "outputId": "7800ac1a-0630-41b5-b4ff-ab328658fe62",
        "colab": {
          "base_uri": "https://localhost:8080/",
          "height": 428
        }
      },
      "source": [
        "auc = roc_auc_score(y_true, y_pred)\n",
        "\n",
        "plt.figure(figsize=(10,7))\n",
        "plt.plot(*roc_curve(y_true, y_pred)[:-1], label=(\"roc_auc=%.4f\") % auc)\n",
        "plt.plot([0, 1], [0, 1], '--', color='black')\n",
        "\n",
        "plt.grid()\n",
        "plt.legend()\n",
        "plt.show()"
      ],
      "execution_count": 0,
      "outputs": [
        {
          "output_type": "display_data",
          "data": {
            "image/png": "[encoded data removed]",
            "text/plain": [
              "<Figure size 720x504 with 1 Axes>"
            ]
          },
          "metadata": {
            "tags": []
          }
        }
      ]
    },
    {
      "cell_type": "markdown",
      "metadata": {
        "id": "Yg77fnfk620c",
        "colab_type": "text"
      },
      "source": [
        "Порог для классификации определяется так, как вам нужно. Например, зная прибыль с надежного заемщика и убыток с ненадежного, можно определить порог выдачи кредита, максимизируя ожидаемую прибыль."
      ]
    }
  ]
}