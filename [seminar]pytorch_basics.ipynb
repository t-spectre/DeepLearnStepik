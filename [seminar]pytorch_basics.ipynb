{
  "nbformat": 4,
  "nbformat_minor": 0,
  "metadata": {
    "colab": {
      "name": "[seminar]pytorch_basics.ipynb",
      "provenance": [],
      "collapsed_sections": [],
      "include_colab_link": true
    },
    "kernelspec": {
      "name": "python3",
      "display_name": "Python 3"
    },
    "accelerator": "GPU"
  },
  "cells": [
    {
      "cell_type": "markdown",
      "metadata": {
        "id": "view-in-github",
        "colab_type": "text"
      },
      "source": [
        "<a href=\"https://colab.research.google.com/github/t-spectre/DeepLearnStepik/blob/master/%5Bseminar%5Dpytorch_basics.ipynb\" target=\"_parent\"><img src=\"https://colab.research.google.com/assets/colab-badge.svg\" alt=\"Open In Colab\"/></a>"
      ]
    },
    {
      "cell_type": "markdown",
      "metadata": {
        "id": "5RETQ6CxbdOz",
        "colab_type": "text"
      },
      "source": [
        "<p style=\"align: center;\"><img align=center src=\"https://s8.hostingkartinok.com/uploads/images/2018/08/308b49fcfbc619d629fe4604bceb67ac.jpg\" width=500 height=450/></p>\n",
        "\n",
        "<h3 style=\"text-align: center;\"><b>\"Глубокое обучение\". Продвинутый поток</b></h3>\n",
        "\n",
        "<h2 style=\"text-align: center;\"><b>Семинар 6. Основы библиотеки Pythorch </b></h2>\n"
      ]
    },
    {
      "cell_type": "markdown",
      "metadata": {
        "colab_type": "text",
        "id": "vcnGdgw_YJ8u"
      },
      "source": [
        "<h2 style=\"text-align: center;\"><b>PyTorch basics: syntax, torch.cuda and torch.autograd</b></h2>"
      ]
    },
    {
      "cell_type": "markdown",
      "metadata": {
        "colab_type": "text",
        "id": "-Iv1eX2mYJ8v"
      },
      "source": [
        "<p style=\"align: center;\"><img src=\"https://upload.wikimedia.org/wikipedia/commons/9/96/Pytorch_logo.png\" width=400 height=100></p>"
      ]
    },
    {
      "cell_type": "markdown",
      "metadata": {
        "colab_type": "text",
        "id": "JwiKExhuYJ8w"
      },
      "source": [
        "Hi! In this notebook we will cover the basics of the **PyTorch deep learning framework**. "
      ]
    },
    {
      "cell_type": "markdown",
      "metadata": {
        "id": "70_JTnaRbdPD",
        "colab_type": "text"
      },
      "source": [
        "<h3 style=\"text-align: center;\"><b>Intro</b></h3>"
      ]
    },
    {
      "cell_type": "markdown",
      "metadata": {
        "id": "8UBMClK6bdPE",
        "colab_type": "text"
      },
      "source": [
        "**Frameworks** are the specific code libraries with their own internal structure and pipelines."
      ]
    },
    {
      "cell_type": "markdown",
      "metadata": {
        "colab_type": "text",
        "id": "tQoex-sZYJ8x"
      },
      "source": [
        "There are many deep learning frameworks nowadays (02/2019). The difference between them is in the internal computation principles. For example, in **[Caffe](http://caffe.berkeleyvision.org/)** and **[Caffe2](https://caffe2.ai/)** you write the code using some \"ready blocks\" (just like the $LEGO^{TM}$ :). In **[TensorFlow](https://www.tensorflow.org/)** and **[Theano](http://deeplearning.net/software/theano/)** you declare the computation graph at first, then compile it and use it for inference/training (`tf.session()`). By the way, now TensorFlow (since v1.10) has the [Eager Execution](https://www.tensorflow.org/guide/eager), which can be handy for fast prototyping and debugging. **[Keras](https://keras.io/)** is a very popular and useful DL framework that allows to create networks fast and has many demanding features. "
      ]
    },
    {
      "cell_type": "markdown",
      "metadata": {
        "colab_type": "text",
        "id": "97MX7yrBYJ8y"
      },
      "source": [
        "<p style=\"align: center;\"><img src=\"https://habrastorage.org/web/e3e/c3e/b78/e3ec3eb78d714a7993a6b922911c0866.png\" width=500 height=500></p>  \n",
        "<p style=\"text-align: center;\"><i>Image credit: https://habr.com/post/334380/</i><p>"
      ]
    },
    {
      "cell_type": "markdown",
      "metadata": {
        "id": "h5yBQj7EbdPJ",
        "colab_type": "text"
      },
      "source": [
        "We will use PyTorch bacause it's been actively developed and supported by the community and [Facebook AI Research](https://research.fb.com/category/facebook-ai-research/)."
      ]
    },
    {
      "cell_type": "markdown",
      "metadata": {
        "colab_type": "text",
        "id": "J74O-qdJYJ80"
      },
      "source": [
        "<h3 style=\"text-align: center;\"><b>Installation</b></h3>"
      ]
    },
    {
      "cell_type": "markdown",
      "metadata": {
        "colab_type": "text",
        "id": "WpXxZ4-4YJ83"
      },
      "source": [
        "The detailed instruction on how to install PyTorch you can find on the [official PyTorch website](https://pytorch.org/)."
      ]
    },
    {
      "cell_type": "markdown",
      "metadata": {
        "colab_type": "text",
        "id": "uxdjjnqIYJ86"
      },
      "source": [
        "<h3 style=\"text-align: center;\">Syntax<b></b></h3>"
      ]
    },
    {
      "cell_type": "code",
      "metadata": {
        "colab_type": "code",
        "id": "RtyozNmmYJ89",
        "colab": {}
      },
      "source": [
        "import torch"
      ],
      "execution_count": 0,
      "outputs": []
    },
    {
      "cell_type": "markdown",
      "metadata": {
        "colab_type": "text",
        "id": "zjfLQzEPYJ9B"
      },
      "source": [
        "Some facts about PyTorch:  \n",
        "- dynamic computation graph\n",
        "- handy `torch.nn` and `torchvision` modules for fast neural network prototyping\n",
        "- even faster than TensorFlow on some tasks\n",
        "- allows to use GPU easily"
      ]
    },
    {
      "cell_type": "markdown",
      "metadata": {
        "colab_type": "text",
        "id": "0AL-T8TMYJ9D"
      },
      "source": [
        "If PyTorch was a formula, it would be:  \n",
        "\n",
        "$$PyTorch = NumPy + CUDA + Autograd$$"
      ]
    },
    {
      "cell_type": "markdown",
      "metadata": {
        "colab_type": "text",
        "id": "X_O59VXWYJ9E"
      },
      "source": [
        "(CUDA - [wiki](https://en.wikipedia.org/wiki/CUDA))"
      ]
    },
    {
      "cell_type": "markdown",
      "metadata": {
        "colab_type": "text",
        "id": "lWIeTFxSYJ9F"
      },
      "source": [
        "Let's see how we can use PyTorch to operate with vectors and tensors.  \n",
        "\n",
        "Recall that **a tensor** is a multidimensional vector, e.g. :  \n",
        "\n",
        "`x = np.array([1,2,3])` -- a vector = a tensor with 1 dimension (to be more precise: `(1,)`)  \n",
        "`y = np.array([[1, 2, 3], [4, 5, 6]])` -- a matrix = a tensor with 2 dimensions (`(2, 3)` in this case)  \n",
        "`z = np.array([[[1, 2, 3], [4, 5, 6], [7, 8, 9]],  \n",
        "               [[1, 2, 3], [4, 5, 6], [7, 8, 9]],  \n",
        "               [[1, 2, 3], [4, 5, 6], [7, 8, 9]]])` -- \"a cube\" (3, 3, 3) = a tensor with 3 dimensions (`(3, 3, 3)` in this case)"
      ]
    },
    {
      "cell_type": "markdown",
      "metadata": {
        "colab_type": "text",
        "id": "hS97vo7mYJ9G"
      },
      "source": [
        "One real example of 3-dimensional tensor is **an image**, it has 3 dimensions: `height`, `width` and the `channel depth` (= 3 for color images, 1 for a greyscale). You can think of it as of parallelepiped consisting of the real numbers."
      ]
    },
    {
      "cell_type": "markdown",
      "metadata": {
        "colab_type": "text",
        "id": "tEeGGtRiYJ9H"
      },
      "source": [
        "In PyTorch we will use `torch.Tensor` (`FloatTensor`, `IntTensor`, `ByteTensor`) for all the computations."
      ]
    },
    {
      "cell_type": "markdown",
      "metadata": {
        "colab_type": "text",
        "id": "byu7xZtLYJ9J"
      },
      "source": [
        "All tensor types:"
      ]
    },
    {
      "cell_type": "code",
      "metadata": {
        "colab_type": "code",
        "id": "zilSktmEGgAv",
        "outputId": "d399b390-b4bd-4367-f8d9-91f364905bd0",
        "colab": {
          "base_uri": "https://localhost:8080/",
          "height": 35
        }
      },
      "source": [
        "torch.HalfTensor      # 16 бит, floating point\n",
        "torch.FloatTensor     # 32 бита, floating point\n",
        "torch.DoubleTensor    # 64 бита, floating point\n",
        "\n",
        "torch.ShortTensor     # 16 бит, integer, signed\n",
        "torch.IntTensor       # 32 бита, integer, signed\n",
        "torch.LongTensor      # 64 бита, integer, signed\n",
        "\n",
        "torch.CharTensor      # 8 бит, integer, signed\n",
        "torch.ByteTensor      # 8 бит, integer, unsigned"
      ],
      "execution_count": 0,
      "outputs": [
        {
          "output_type": "execute_result",
          "data": {
            "text/plain": [
              "torch.ByteTensor"
            ]
          },
          "metadata": {
            "tags": []
          },
          "execution_count": 2
        }
      ]
    },
    {
      "cell_type": "markdown",
      "metadata": {
        "colab_type": "text",
        "id": "NWk2gidNYJ9P"
      },
      "source": [
        "We will use only `torch.FloatTensor()` and `torch.IntTensor()`. "
      ]
    },
    {
      "cell_type": "markdown",
      "metadata": {
        "colab_type": "text",
        "id": "CllyEKvVYJ9Q"
      },
      "source": [
        "Let's begin to do something!"
      ]
    },
    {
      "cell_type": "markdown",
      "metadata": {
        "colab_type": "text",
        "id": "R4HEetsxYJ9Q"
      },
      "source": [
        "* Creating the tensor:"
      ]
    },
    {
      "cell_type": "code",
      "metadata": {
        "colab_type": "code",
        "id": "MVawE9lRYJ9R",
        "outputId": "ec324687-187a-4e46-dac6-71974ff01ef6",
        "colab": {
          "base_uri": "https://localhost:8080/",
          "height": 35
        }
      },
      "source": [
        "a = torch.FloatTensor([1, 2])\n",
        "a\n"
      ],
      "execution_count": 0,
      "outputs": [
        {
          "output_type": "execute_result",
          "data": {
            "text/plain": [
              "tensor([1., 2.])"
            ]
          },
          "metadata": {
            "tags": []
          },
          "execution_count": 2
        }
      ]
    },
    {
      "cell_type": "code",
      "metadata": {
        "colab_type": "code",
        "id": "ARjaPS_GYJ9W",
        "outputId": "b8e3ed58-7d63-4ed4-fd82-a05ad0ed2845",
        "colab": {
          "base_uri": "https://localhost:8080/",
          "height": 35
        }
      },
      "source": [
        "a.shape"
      ],
      "execution_count": 0,
      "outputs": [
        {
          "output_type": "execute_result",
          "data": {
            "text/plain": [
              "torch.Size([2])"
            ]
          },
          "metadata": {
            "tags": []
          },
          "execution_count": 3
        }
      ]
    },
    {
      "cell_type": "code",
      "metadata": {
        "colab_type": "code",
        "id": "4gXf0akDYJ9Z",
        "outputId": "2ae9cf71-a4d3-419b-c891-242efaf4fbdd",
        "colab": {
          "base_uri": "https://localhost:8080/",
          "height": 53
        }
      },
      "source": [
        "b = torch.FloatTensor([[1,2,3], [4,5,6]])\n",
        "b"
      ],
      "execution_count": 0,
      "outputs": [
        {
          "output_type": "execute_result",
          "data": {
            "text/plain": [
              "tensor([[1., 2., 3.],\n",
              "        [4., 5., 6.]])"
            ]
          },
          "metadata": {
            "tags": []
          },
          "execution_count": 4
        }
      ]
    },
    {
      "cell_type": "code",
      "metadata": {
        "colab_type": "code",
        "id": "0HTkoIzpYJ9e",
        "outputId": "3768a95f-dbc4-4b7f-889a-c6afa6d15784",
        "colab": {
          "base_uri": "https://localhost:8080/",
          "height": 35
        }
      },
      "source": [
        "b.shape"
      ],
      "execution_count": 0,
      "outputs": [
        {
          "output_type": "execute_result",
          "data": {
            "text/plain": [
              "torch.Size([2, 3])"
            ]
          },
          "metadata": {
            "tags": []
          },
          "execution_count": 5
        }
      ]
    },
    {
      "cell_type": "code",
      "metadata": {
        "colab_type": "code",
        "id": "WYJ9L-yFYJ9j",
        "colab": {}
      },
      "source": [
        "x = torch.FloatTensor(2,3,4)"
      ],
      "execution_count": 0,
      "outputs": []
    },
    {
      "cell_type": "code",
      "metadata": {
        "colab_type": "code",
        "id": "qWAEP27IYJ9m",
        "outputId": "8776dbe9-4d23-4d93-9240-b4a1fee6a0df",
        "colab": {
          "base_uri": "https://localhost:8080/",
          "height": 142
        }
      },
      "source": [
        "x"
      ],
      "execution_count": 0,
      "outputs": [
        {
          "output_type": "execute_result",
          "data": {
            "text/plain": [
              "tensor([[[3.7478e-36, 0.0000e+00, 7.0065e-44, 6.7262e-44],\n",
              "         [6.3058e-44, 6.7262e-44, 7.2868e-44, 6.3058e-44],\n",
              "         [7.0065e-44, 7.1466e-44, 1.1771e-43, 6.8664e-44]],\n",
              "\n",
              "        [[7.0065e-44, 8.1275e-44, 7.0065e-44, 7.5670e-44],\n",
              "         [8.1275e-44, 6.8664e-44, 7.5670e-44, 6.4460e-44],\n",
              "         [7.5670e-44, 7.1466e-44, 7.2868e-44, 7.9874e-44]]])"
            ]
          },
          "metadata": {
            "tags": []
          },
          "execution_count": 8
        }
      ]
    },
    {
      "cell_type": "code",
      "metadata": {
        "colab_type": "code",
        "id": "o5CsOJ_xYJ9s",
        "outputId": "67aec22c-b788-43ee-c04f-4bb9f5556992",
        "scrolled": true,
        "colab": {
          "base_uri": "https://localhost:8080/",
          "height": 321
        }
      },
      "source": [
        "x = torch.FloatTensor(100)\n",
        "x"
      ],
      "execution_count": 0,
      "outputs": [
        {
          "output_type": "execute_result",
          "data": {
            "text/plain": [
              "tensor([7.5068e-36, 0.0000e+00, 2.4287e-37, 0.0000e+00, 4.1507e-37, 0.0000e+00,\n",
              "        0.0000e+00, 0.0000e+00, 0.0000e+00, 0.0000e+00, 0.0000e+00, 0.0000e+00,\n",
              "        0.0000e+00, 0.0000e+00, 0.0000e+00, 0.0000e+00, 0.0000e+00, 0.0000e+00,\n",
              "        7.4578e-36, 0.0000e+00, 4.2039e-45, 0.0000e+00, 0.0000e+00, 0.0000e+00,\n",
              "        0.0000e+00, 0.0000e+00, 1.0000e+00, 4.5912e-41, 4.2039e-45, 0.0000e+00,\n",
              "        0.0000e+00, 0.0000e+00, 7.4577e-36, 0.0000e+00, 4.2039e-45, 0.0000e+00,\n",
              "        0.0000e+00, 0.0000e+00, 0.0000e+00, 0.0000e+00, 1.0000e+00, 4.5912e-41,\n",
              "        4.2039e-45, 0.0000e+00, 0.0000e+00, 0.0000e+00, 0.0000e+00, 0.0000e+00,\n",
              "        0.0000e+00, 0.0000e+00, 0.0000e+00, 0.0000e+00, 1.4013e-45, 0.0000e+00,\n",
              "        0.0000e+00, 0.0000e+00, 7.5938e-36, 0.0000e+00, 2.7846e-36, 0.0000e+00,\n",
              "        2.7846e-36, 0.0000e+00, 0.0000e+00, 0.0000e+00, 0.0000e+00, 0.0000e+00,\n",
              "        0.0000e+00, 0.0000e+00, 0.0000e+00, 0.0000e+00, 0.0000e+00, 0.0000e+00,\n",
              "        0.0000e+00, 0.0000e+00, 0.0000e+00, 0.0000e+00, 0.0000e+00, 0.0000e+00,\n",
              "        0.0000e+00, 0.0000e+00, 0.0000e+00, 0.0000e+00, 0.0000e+00, 0.0000e+00,\n",
              "        0.0000e+00, 0.0000e+00, 0.0000e+00, 0.0000e+00, 0.0000e+00, 0.0000e+00,\n",
              "        0.0000e+00, 0.0000e+00, 0.0000e+00, 0.0000e+00, 0.0000e+00, 0.0000e+00,\n",
              "        0.0000e+00, 0.0000e+00, 0.0000e+00, 0.0000e+00])"
            ]
          },
          "metadata": {
            "tags": []
          },
          "execution_count": 7
        }
      ]
    },
    {
      "cell_type": "code",
      "metadata": {
        "colab_type": "code",
        "id": "uIVhvmzZYJ91",
        "outputId": "a37db8e9-86b5-462f-f117-40c5c2945c91",
        "colab": {
          "base_uri": "https://localhost:8080/",
          "height": 35
        }
      },
      "source": [
        "x = torch.IntTensor(45, 57, 14, 2)\n",
        "x.shape"
      ],
      "execution_count": 0,
      "outputs": [
        {
          "output_type": "execute_result",
          "data": {
            "text/plain": [
              "torch.Size([45, 57, 14, 2])"
            ]
          },
          "metadata": {
            "tags": []
          },
          "execution_count": 8
        }
      ]
    },
    {
      "cell_type": "markdown",
      "metadata": {
        "colab_type": "text",
        "id": "cUzl8DFRYJ95"
      },
      "source": [
        "**Note:** if you create `torch.Tensor` with the following constructor it will be filled with the \"random trash numbers\":"
      ]
    },
    {
      "cell_type": "code",
      "metadata": {
        "colab_type": "code",
        "id": "QX0QcIOzYJ96",
        "outputId": "de1b4870-6dad-4ae6-ecbd-04464dbfdc30",
        "colab": {
          "base_uri": "https://localhost:8080/",
          "height": 160
        }
      },
      "source": [
        "x = torch.IntTensor(3, 2, 4)\n",
        "x"
      ],
      "execution_count": 0,
      "outputs": [
        {
          "output_type": "execute_result",
          "data": {
            "text/plain": [
              "tensor([[[95037952,        0,       50,       48],\n",
              "         [      45,       48,       52,       45]],\n",
              "\n",
              "        [[      50,       51,       84,       49],\n",
              "         [      56,       58,       50,       51]],\n",
              "\n",
              "        [[      58,       50,       50,       46],\n",
              "         [      48,       57,       53,       54]]], dtype=torch.int32)"
            ]
          },
          "metadata": {
            "tags": []
          },
          "execution_count": 9
        }
      ]
    },
    {
      "cell_type": "markdown",
      "metadata": {
        "id": "utra2t4SbdQR",
        "colab_type": "text"
      },
      "source": [
        "Here is a way to fill a new tensor with zeroes:"
      ]
    },
    {
      "cell_type": "code",
      "metadata": {
        "colab_type": "code",
        "id": "XV3w9lVwYJ-A",
        "outputId": "8c994a04-5f0d-4c2f-e97b-6dfab4f9ff5d",
        "colab": {
          "base_uri": "https://localhost:8080/",
          "height": 160
        }
      },
      "source": [
        "x = torch.FloatTensor(3, 2, 4).zero_()\n",
        "x"
      ],
      "execution_count": 0,
      "outputs": [
        {
          "output_type": "execute_result",
          "data": {
            "text/plain": [
              "tensor([[[0., 0., 0., 0.],\n",
              "         [0., 0., 0., 0.]],\n",
              "\n",
              "        [[0., 0., 0., 0.],\n",
              "         [0., 0., 0., 0.]],\n",
              "\n",
              "        [[0., 0., 0., 0.],\n",
              "         [0., 0., 0., 0.]]])"
            ]
          },
          "metadata": {
            "tags": []
          },
          "execution_count": 13
        }
      ]
    },
    {
      "cell_type": "markdown",
      "metadata": {
        "id": "bzq1klQuzXA9",
        "colab_type": "text"
      },
      "source": [
        "## Numpy -> Torch\n",
        "\n",
        "All numpy function have its pair in torch.\n",
        "\n",
        "https://github.com/torch/torch7/wiki/Torch-for-Numpy-users"
      ]
    },
    {
      "cell_type": "markdown",
      "metadata": {
        "colab_type": "text",
        "id": "SAAmLRwzYJ-E"
      },
      "source": [
        "`np.reshape()` == `torch.view()`:"
      ]
    },
    {
      "cell_type": "code",
      "metadata": {
        "colab_type": "code",
        "id": "spMYG2xXYJ-L",
        "outputId": "c4c24634-3709-404a-bc91-96571f9c2c4a",
        "colab": {
          "base_uri": "https://localhost:8080/",
          "height": 53
        }
      },
      "source": [
        "b"
      ],
      "execution_count": 0,
      "outputs": [
        {
          "output_type": "execute_result",
          "data": {
            "text/plain": [
              "tensor([[1., 2., 3.],\n",
              "        [4., 5., 6.]])"
            ]
          },
          "metadata": {
            "tags": []
          },
          "execution_count": 14
        }
      ]
    },
    {
      "cell_type": "code",
      "metadata": {
        "colab_type": "code",
        "id": "ePjL3X3GYJ-H",
        "outputId": "9b14d04b-5200-4f63-a4f4-be67487171b7",
        "colab": {
          "base_uri": "https://localhost:8080/",
          "height": 71
        }
      },
      "source": [
        "b.view(3, 2)"
      ],
      "execution_count": 0,
      "outputs": [
        {
          "output_type": "execute_result",
          "data": {
            "text/plain": [
              "tensor([[1., 2.],\n",
              "        [3., 4.],\n",
              "        [5., 6.]])"
            ]
          },
          "metadata": {
            "tags": []
          },
          "execution_count": 15
        }
      ]
    },
    {
      "cell_type": "markdown",
      "metadata": {
        "colab_type": "text",
        "id": "amVu0N1zYJ-O"
      },
      "source": [
        "**Note:** `torch.view()` creates a new tensor, one the old one remains unchanged"
      ]
    },
    {
      "cell_type": "code",
      "metadata": {
        "colab_type": "code",
        "id": "hWqyugOSYJ-Q",
        "outputId": "683097ab-08d0-4b86-daa8-f9f2b90663b6",
        "colab": {
          "base_uri": "https://localhost:8080/",
          "height": 35
        }
      },
      "source": [
        "b.view(-1)"
      ],
      "execution_count": 0,
      "outputs": [
        {
          "output_type": "execute_result",
          "data": {
            "text/plain": [
              "tensor([1., 2., 3., 4., 5., 6.])"
            ]
          },
          "metadata": {
            "tags": []
          },
          "execution_count": 16
        }
      ]
    },
    {
      "cell_type": "code",
      "metadata": {
        "colab_type": "code",
        "id": "S9CvF56uYJ-U",
        "outputId": "35ce0504-c2c2-4e11-f74b-10f1eb1c0aa5",
        "colab": {
          "base_uri": "https://localhost:8080/",
          "height": 53
        }
      },
      "source": [
        "b"
      ],
      "execution_count": 0,
      "outputs": [
        {
          "output_type": "execute_result",
          "data": {
            "text/plain": [
              "tensor([[1., 2., 3.],\n",
              "        [4., 5., 6.]])"
            ]
          },
          "metadata": {
            "tags": []
          },
          "execution_count": 17
        }
      ]
    },
    {
      "cell_type": "markdown",
      "metadata": {
        "colab_type": "text",
        "id": "t401j1E2YJ-Z"
      },
      "source": [
        "* Change a tensor type:"
      ]
    },
    {
      "cell_type": "code",
      "metadata": {
        "colab_type": "code",
        "id": "f_iDUEH4YJ-Z",
        "colab": {}
      },
      "source": [
        "a = torch.FloatTensor([1.5, 3.2, -7])"
      ],
      "execution_count": 0,
      "outputs": []
    },
    {
      "cell_type": "code",
      "metadata": {
        "colab_type": "code",
        "id": "EzJOrXitYJ-e",
        "outputId": "c225f7a2-6027-4039-ef25-b07471f0bfde",
        "colab": {
          "base_uri": "https://localhost:8080/",
          "height": 35
        }
      },
      "source": [
        "a.type_as(torch.IntTensor())"
      ],
      "execution_count": 0,
      "outputs": [
        {
          "output_type": "execute_result",
          "data": {
            "text/plain": [
              "tensor([ 1,  3, -7], dtype=torch.int32)"
            ]
          },
          "metadata": {
            "tags": []
          },
          "execution_count": 19
        }
      ]
    },
    {
      "cell_type": "code",
      "metadata": {
        "colab_type": "code",
        "id": "hAe3OWWUYJ-i",
        "outputId": "ba02a3d1-7bef-446e-ce92-bbca759ce046",
        "colab": {
          "base_uri": "https://localhost:8080/",
          "height": 35
        }
      },
      "source": [
        "a.type_as(torch.ByteTensor())"
      ],
      "execution_count": 0,
      "outputs": [
        {
          "output_type": "execute_result",
          "data": {
            "text/plain": [
              "tensor([  1,   3, 249], dtype=torch.uint8)"
            ]
          },
          "metadata": {
            "tags": []
          },
          "execution_count": 20
        }
      ]
    },
    {
      "cell_type": "markdown",
      "metadata": {
        "colab_type": "text",
        "id": "4rkatrUeYJ-n"
      },
      "source": [
        "**Note:** `.type_as()` creates a new tensor, the old one remains unchanged"
      ]
    },
    {
      "cell_type": "code",
      "metadata": {
        "colab_type": "code",
        "id": "fCgDT14MYJ-o",
        "outputId": "5093b1ff-a8ac-43da-f856-c02d6a17ec42",
        "colab": {
          "base_uri": "https://localhost:8080/",
          "height": 35
        }
      },
      "source": [
        "a"
      ],
      "execution_count": 0,
      "outputs": [
        {
          "output_type": "execute_result",
          "data": {
            "text/plain": [
              "tensor([ 1.5000,  3.2000, -7.0000])"
            ]
          },
          "metadata": {
            "tags": []
          },
          "execution_count": 21
        }
      ]
    },
    {
      "cell_type": "markdown",
      "metadata": {
        "colab_type": "text",
        "id": "hG1OwtFBYJ-r"
      },
      "source": [
        "* Indexing is just like in `NumPy`:"
      ]
    },
    {
      "cell_type": "code",
      "metadata": {
        "colab_type": "code",
        "id": "prr0EGIYYJ-r",
        "outputId": "83034706-b662-4dac-9db3-a309c45d0754",
        "colab": {
          "base_uri": "https://localhost:8080/",
          "height": 71
        }
      },
      "source": [
        "a = torch.FloatTensor([[100, 20, 35], [15, 163, 534], [52, 90, 66]])\n",
        "a"
      ],
      "execution_count": 0,
      "outputs": [
        {
          "output_type": "execute_result",
          "data": {
            "text/plain": [
              "tensor([[100.,  20.,  35.],\n",
              "        [ 15., 163., 534.],\n",
              "        [ 52.,  90.,  66.]])"
            ]
          },
          "metadata": {
            "tags": []
          },
          "execution_count": 22
        }
      ]
    },
    {
      "cell_type": "code",
      "metadata": {
        "colab_type": "code",
        "id": "IBq7JiccYJ-w",
        "outputId": "7e27a10a-dc83-4aba-b2fa-590b4d06c05c",
        "colab": {
          "base_uri": "https://localhost:8080/",
          "height": 35
        }
      },
      "source": [
        "a[0, 0]"
      ],
      "execution_count": 0,
      "outputs": [
        {
          "output_type": "execute_result",
          "data": {
            "text/plain": [
              "tensor(100.)"
            ]
          },
          "metadata": {
            "tags": []
          },
          "execution_count": 23
        }
      ]
    },
    {
      "cell_type": "code",
      "metadata": {
        "colab_type": "code",
        "id": "UUZzx2F_YJ-2",
        "outputId": "aa130fff-6ed6-41f9-dcdd-a58f74a3f6ca",
        "colab": {
          "base_uri": "https://localhost:8080/",
          "height": 53
        }
      },
      "source": [
        "a[0:2, 0:2]"
      ],
      "execution_count": 0,
      "outputs": [
        {
          "output_type": "execute_result",
          "data": {
            "text/plain": [
              "tensor([[100.,  20.],\n",
              "        [ 15., 163.]])"
            ]
          },
          "metadata": {
            "tags": []
          },
          "execution_count": 24
        }
      ]
    },
    {
      "cell_type": "markdown",
      "metadata": {
        "colab_type": "text",
        "id": "KffQsYwWYJ_D"
      },
      "source": [
        "**Ariphmetics and boolean operations** and their analogues:  \n",
        "\n",
        "| Operator | Analogue |\n",
        "|:-:|:-:|\n",
        "|`+`| `torch.add()` |\n",
        "|`-`| `torch.sub()` |\n",
        "|`*`| `torch.mul()` |\n",
        "|`/`| `torch.div()` |"
      ]
    },
    {
      "cell_type": "markdown",
      "metadata": {
        "colab_type": "text",
        "id": "UMpR8T11YJ_D"
      },
      "source": [
        "* Addition:"
      ]
    },
    {
      "cell_type": "code",
      "metadata": {
        "colab_type": "code",
        "id": "1XHkSjEUYJ_D",
        "colab": {}
      },
      "source": [
        "a = torch.FloatTensor([[1, 2, 3], [10, 20, 30], [100, 200, 300]])\n",
        "b = torch.FloatTensor([[-1, -2, -3], [-10, -20, -30], [100, 200, 300]])"
      ],
      "execution_count": 0,
      "outputs": []
    },
    {
      "cell_type": "code",
      "metadata": {
        "colab_type": "code",
        "id": "td25tuFKYJ_H",
        "outputId": "222dec94-a76f-4427-fc4a-021e725a221e",
        "colab": {
          "base_uri": "https://localhost:8080/",
          "height": 71
        }
      },
      "source": [
        "a + b"
      ],
      "execution_count": 0,
      "outputs": [
        {
          "output_type": "execute_result",
          "data": {
            "text/plain": [
              "tensor([[  0.,   0.,   0.],\n",
              "        [  0.,   0.,   0.],\n",
              "        [200., 400., 600.]])"
            ]
          },
          "metadata": {
            "tags": []
          },
          "execution_count": 26
        }
      ]
    },
    {
      "cell_type": "code",
      "metadata": {
        "colab_type": "code",
        "id": "wHka8PxFYJ_N",
        "outputId": "60759c26-743b-4b8c-b9cf-5dbe3c8833c1",
        "colab": {
          "base_uri": "https://localhost:8080/",
          "height": 71
        }
      },
      "source": [
        "a.add(b)"
      ],
      "execution_count": 0,
      "outputs": [
        {
          "output_type": "execute_result",
          "data": {
            "text/plain": [
              "tensor([[  0.,   0.,   0.],\n",
              "        [  0.,   0.,   0.],\n",
              "        [200., 400., 600.]])"
            ]
          },
          "metadata": {
            "tags": []
          },
          "execution_count": 28
        }
      ]
    },
    {
      "cell_type": "code",
      "metadata": {
        "colab_type": "code",
        "id": "FHQj4DbBYJ_Q",
        "outputId": "19e2a40d-8b54-487f-b8d7-f55127602135",
        "colab": {
          "base_uri": "https://localhost:8080/",
          "height": 71
        }
      },
      "source": [
        "b = -a\n",
        "b"
      ],
      "execution_count": 0,
      "outputs": [
        {
          "output_type": "execute_result",
          "data": {
            "text/plain": [
              "tensor([[  -1.,   -2.,   -3.],\n",
              "        [ -10.,  -20.,  -30.],\n",
              "        [-100., -200., -300.]])"
            ]
          },
          "metadata": {
            "tags": []
          },
          "execution_count": 29
        }
      ]
    },
    {
      "cell_type": "code",
      "metadata": {
        "colab_type": "code",
        "id": "xLCDzO7iYJ_V",
        "outputId": "aaa6224b-5308-4897-fbb3-2dc1881fd9c4",
        "colab": {
          "base_uri": "https://localhost:8080/",
          "height": 71
        }
      },
      "source": [
        "a + b"
      ],
      "execution_count": 0,
      "outputs": [
        {
          "output_type": "execute_result",
          "data": {
            "text/plain": [
              "tensor([[0., 0., 0.],\n",
              "        [0., 0., 0.],\n",
              "        [0., 0., 0.]])"
            ]
          },
          "metadata": {
            "tags": []
          },
          "execution_count": 30
        }
      ]
    },
    {
      "cell_type": "markdown",
      "metadata": {
        "colab_type": "text",
        "id": "z_3gVLY3YJ_Z"
      },
      "source": [
        "* Subtraction:"
      ]
    },
    {
      "cell_type": "code",
      "metadata": {
        "colab_type": "code",
        "id": "PANHq3eFYJ_a",
        "outputId": "8d659b84-271f-4a60-ae39-10566c81b58f",
        "colab": {
          "base_uri": "https://localhost:8080/",
          "height": 71
        }
      },
      "source": [
        "a - b"
      ],
      "execution_count": 0,
      "outputs": [
        {
          "output_type": "execute_result",
          "data": {
            "text/plain": [
              "tensor([[  2.,   4.,   6.],\n",
              "        [ 20.,  40.,  60.],\n",
              "        [200., 400., 600.]])"
            ]
          },
          "metadata": {
            "tags": []
          },
          "execution_count": 31
        }
      ]
    },
    {
      "cell_type": "code",
      "metadata": {
        "colab_type": "code",
        "id": "AH7xhdkRYJ_i",
        "outputId": "a5ec6144-2ea8-4739-a040-d8ce950fbc01",
        "colab": {
          "base_uri": "https://localhost:8080/",
          "height": 71
        }
      },
      "source": [
        "a.sub(b)"
      ],
      "execution_count": 0,
      "outputs": [
        {
          "output_type": "execute_result",
          "data": {
            "text/plain": [
              "tensor([[  2.,   4.,   6.],\n",
              "        [ 20.,  40.,  60.],\n",
              "        [200., 400., 600.]])"
            ]
          },
          "metadata": {
            "tags": []
          },
          "execution_count": 32
        }
      ]
    },
    {
      "cell_type": "markdown",
      "metadata": {
        "colab_type": "text",
        "id": "KOX3dTuZYJ_l"
      },
      "source": [
        "* Multiplication (elementwise):"
      ]
    },
    {
      "cell_type": "code",
      "metadata": {
        "colab_type": "code",
        "id": "J380CvNGYJ_m",
        "outputId": "ecff3cf8-fb51-4041-a398-a54293c2f1cb",
        "colab": {
          "base_uri": "https://localhost:8080/",
          "height": 71
        }
      },
      "source": [
        "a * b"
      ],
      "execution_count": 0,
      "outputs": [
        {
          "output_type": "execute_result",
          "data": {
            "text/plain": [
              "tensor([[-1.0000e+00, -4.0000e+00, -9.0000e+00],\n",
              "        [-1.0000e+02, -4.0000e+02, -9.0000e+02],\n",
              "        [-1.0000e+04, -4.0000e+04, -9.0000e+04]])"
            ]
          },
          "metadata": {
            "tags": []
          },
          "execution_count": 33
        }
      ]
    },
    {
      "cell_type": "code",
      "metadata": {
        "colab_type": "code",
        "id": "cixW0jgdYJ_o",
        "outputId": "658b7fda-62f6-4c6c-d2ea-1f0d3a2767c6",
        "colab": {
          "base_uri": "https://localhost:8080/",
          "height": 71
        }
      },
      "source": [
        "a.mul(b)"
      ],
      "execution_count": 0,
      "outputs": [
        {
          "output_type": "execute_result",
          "data": {
            "text/plain": [
              "tensor([[-1.0000e+00, -4.0000e+00, -9.0000e+00],\n",
              "        [-1.0000e+02, -4.0000e+02, -9.0000e+02],\n",
              "        [-1.0000e+04, -4.0000e+04, -9.0000e+04]])"
            ]
          },
          "metadata": {
            "tags": []
          },
          "execution_count": 34
        }
      ]
    },
    {
      "cell_type": "markdown",
      "metadata": {
        "colab_type": "text",
        "id": "V-GYTERKYJ_q"
      },
      "source": [
        "* Division (elementwise):"
      ]
    },
    {
      "cell_type": "code",
      "metadata": {
        "colab_type": "code",
        "id": "fUBQns2SYJ_r",
        "colab": {}
      },
      "source": [
        "a = torch.FloatTensor([[1, 2, 3], [10, 20, 30], [100, 200, 300]])\n",
        "b = torch.FloatTensor([[-1, -2, -3], [-10, -20, -30], [100, 200, 300]])"
      ],
      "execution_count": 0,
      "outputs": []
    },
    {
      "cell_type": "code",
      "metadata": {
        "colab_type": "code",
        "id": "2hrKeMjAYJ_v",
        "outputId": "72b816da-489f-4051-dbec-7b9a24856e75",
        "colab": {
          "base_uri": "https://localhost:8080/",
          "height": 71
        }
      },
      "source": [
        "a / b"
      ],
      "execution_count": 0,
      "outputs": [
        {
          "output_type": "execute_result",
          "data": {
            "text/plain": [
              "tensor([[-1., -1., -1.],\n",
              "        [-1., -1., -1.],\n",
              "        [ 1.,  1.,  1.]])"
            ]
          },
          "metadata": {
            "tags": []
          },
          "execution_count": 36
        }
      ]
    },
    {
      "cell_type": "code",
      "metadata": {
        "colab_type": "code",
        "id": "cpg3YFVPYJ_2",
        "outputId": "9717bb57-e05b-4b7c-eeba-7c95d9289003",
        "colab": {
          "base_uri": "https://localhost:8080/",
          "height": 71
        }
      },
      "source": [
        "a.div(b)"
      ],
      "execution_count": 0,
      "outputs": [
        {
          "output_type": "execute_result",
          "data": {
            "text/plain": [
              "tensor([[-1., -1., -1.],\n",
              "        [-1., -1., -1.],\n",
              "        [ 1.,  1.,  1.]])"
            ]
          },
          "metadata": {
            "tags": []
          },
          "execution_count": 37
        }
      ]
    },
    {
      "cell_type": "markdown",
      "metadata": {
        "colab_type": "text",
        "id": "VeLAbx1tYJ_7"
      },
      "source": [
        "**Note:** all this operations create new tensors, the old tensors remain unchanged"
      ]
    },
    {
      "cell_type": "code",
      "metadata": {
        "colab_type": "code",
        "id": "57BFtnlgYJ_8",
        "outputId": "7502841d-718e-4134-88b0-0da3950170e9",
        "colab": {
          "base_uri": "https://localhost:8080/",
          "height": 71
        }
      },
      "source": [
        "a"
      ],
      "execution_count": 0,
      "outputs": [
        {
          "output_type": "execute_result",
          "data": {
            "text/plain": [
              "tensor([[  1.,   2.,   3.],\n",
              "        [ 10.,  20.,  30.],\n",
              "        [100., 200., 300.]])"
            ]
          },
          "metadata": {
            "tags": []
          },
          "execution_count": 38
        }
      ]
    },
    {
      "cell_type": "code",
      "metadata": {
        "colab_type": "code",
        "id": "UziXyvtDYJ_-",
        "outputId": "e32a873e-9bc6-4c0d-963c-b9a217e75055",
        "colab": {
          "base_uri": "https://localhost:8080/",
          "height": 71
        }
      },
      "source": [
        "b"
      ],
      "execution_count": 0,
      "outputs": [
        {
          "output_type": "execute_result",
          "data": {
            "text/plain": [
              "tensor([[ -1.,  -2.,  -3.],\n",
              "        [-10., -20., -30.],\n",
              "        [100., 200., 300.]])"
            ]
          },
          "metadata": {
            "tags": []
          },
          "execution_count": 39
        }
      ]
    },
    {
      "cell_type": "markdown",
      "metadata": {
        "colab_type": "text",
        "id": "vLpwZPc3YKAC"
      },
      "source": [
        "* Comparison operators:"
      ]
    },
    {
      "cell_type": "code",
      "metadata": {
        "colab_type": "code",
        "id": "FfRzvw_UYKAC",
        "colab": {}
      },
      "source": [
        "a = torch.FloatTensor([[1, 2, 3], [10, 20, 30], [100, 200, 300]])\n",
        "b = torch.FloatTensor([[-1, -2, -3], [-10, -20, -30], [100, 200, 300]])"
      ],
      "execution_count": 0,
      "outputs": []
    },
    {
      "cell_type": "code",
      "metadata": {
        "colab_type": "code",
        "id": "o1RUTP2BYKAD",
        "outputId": "c1528fa5-ea35-4272-fa6e-82d3abff15ee",
        "colab": {
          "base_uri": "https://localhost:8080/",
          "height": 71
        }
      },
      "source": [
        "a == b"
      ],
      "execution_count": 0,
      "outputs": [
        {
          "output_type": "execute_result",
          "data": {
            "text/plain": [
              "tensor([[False, False, False],\n",
              "        [False, False, False],\n",
              "        [ True,  True,  True]])"
            ]
          },
          "metadata": {
            "tags": []
          },
          "execution_count": 41
        }
      ]
    },
    {
      "cell_type": "code",
      "metadata": {
        "colab_type": "code",
        "id": "JO3HaVIAYKAF",
        "outputId": "d70a8692-8b46-4a9c-9a9a-9ec1a0208bc7",
        "colab": {
          "base_uri": "https://localhost:8080/",
          "height": 71
        }
      },
      "source": [
        "a != b"
      ],
      "execution_count": 0,
      "outputs": [
        {
          "output_type": "execute_result",
          "data": {
            "text/plain": [
              "tensor([[ True,  True,  True],\n",
              "        [ True,  True,  True],\n",
              "        [False, False, False]])"
            ]
          },
          "metadata": {
            "tags": []
          },
          "execution_count": 42
        }
      ]
    },
    {
      "cell_type": "code",
      "metadata": {
        "colab_type": "code",
        "id": "DExLBj4VYKAH",
        "outputId": "00e61b65-0ab5-4808-fba1-236722d912d6",
        "colab": {
          "base_uri": "https://localhost:8080/",
          "height": 71
        }
      },
      "source": [
        "a < b"
      ],
      "execution_count": 0,
      "outputs": [
        {
          "output_type": "execute_result",
          "data": {
            "text/plain": [
              "tensor([[False, False, False],\n",
              "        [False, False, False],\n",
              "        [False, False, False]])"
            ]
          },
          "metadata": {
            "tags": []
          },
          "execution_count": 43
        }
      ]
    },
    {
      "cell_type": "code",
      "metadata": {
        "colab_type": "code",
        "id": "0_IH_FUNYKAJ",
        "outputId": "c0103275-ba33-4294-a778-97cae80b3622",
        "colab": {
          "base_uri": "https://localhost:8080/",
          "height": 71
        }
      },
      "source": [
        "a > b"
      ],
      "execution_count": 0,
      "outputs": [
        {
          "output_type": "execute_result",
          "data": {
            "text/plain": [
              "tensor([[ True,  True,  True],\n",
              "        [ True,  True,  True],\n",
              "        [False, False, False]])"
            ]
          },
          "metadata": {
            "tags": []
          },
          "execution_count": 44
        }
      ]
    },
    {
      "cell_type": "markdown",
      "metadata": {
        "colab_type": "text",
        "id": "24nzBJR8YKAM"
      },
      "source": [
        "* Using boolean mask indexing:"
      ]
    },
    {
      "cell_type": "code",
      "metadata": {
        "colab_type": "code",
        "id": "C-xVDslwYKAN",
        "outputId": "0fb00036-14cd-4715-b794-ced8ff59d845",
        "colab": {
          "base_uri": "https://localhost:8080/",
          "height": 35
        }
      },
      "source": [
        "a[a > b]"
      ],
      "execution_count": 0,
      "outputs": [
        {
          "output_type": "execute_result",
          "data": {
            "text/plain": [
              "tensor([ 1.,  2.,  3., 10., 20., 30.])"
            ]
          },
          "metadata": {
            "tags": []
          },
          "execution_count": 45
        }
      ]
    },
    {
      "cell_type": "code",
      "metadata": {
        "colab_type": "code",
        "id": "XatDJF5YYKAQ",
        "outputId": "f2598eb7-33d8-494b-fd25-5ee1e98cefda",
        "colab": {
          "base_uri": "https://localhost:8080/",
          "height": 35
        }
      },
      "source": [
        "b[a == b]"
      ],
      "execution_count": 0,
      "outputs": [
        {
          "output_type": "execute_result",
          "data": {
            "text/plain": [
              "tensor([100., 200., 300.])"
            ]
          },
          "metadata": {
            "tags": []
          },
          "execution_count": 46
        }
      ]
    },
    {
      "cell_type": "markdown",
      "metadata": {
        "colab_type": "text",
        "id": "54bQky1bYKAf"
      },
      "source": [
        "Elementwise application of the **universal functions**:"
      ]
    },
    {
      "cell_type": "code",
      "metadata": {
        "colab_type": "code",
        "id": "lWnGSuUhYKAf",
        "colab": {}
      },
      "source": [
        "a = torch.FloatTensor([[1, 2, 3], [10, 20, 30], [100, 200, 300]])"
      ],
      "execution_count": 0,
      "outputs": []
    },
    {
      "cell_type": "code",
      "metadata": {
        "colab_type": "code",
        "id": "J6ZyxZBNYKAl",
        "outputId": "34e636d9-f18b-49cf-a7db-ac02e8513aad",
        "colab": {
          "base_uri": "https://localhost:8080/",
          "height": 71
        }
      },
      "source": [
        "a.sin()"
      ],
      "execution_count": 0,
      "outputs": [
        {
          "output_type": "execute_result",
          "data": {
            "text/plain": [
              "tensor([[ 0.8415,  0.9093,  0.1411],\n",
              "        [-0.5440,  0.9129, -0.9880],\n",
              "        [-0.5064, -0.8733, -0.9998]])"
            ]
          },
          "metadata": {
            "tags": []
          },
          "execution_count": 48
        }
      ]
    },
    {
      "cell_type": "code",
      "metadata": {
        "colab_type": "code",
        "id": "SScTSkJMYKAo",
        "outputId": "5abbb24a-1bf3-40e7-9ca7-8355f2a9ca04",
        "colab": {
          "base_uri": "https://localhost:8080/",
          "height": 71
        }
      },
      "source": [
        "torch.sin(a)"
      ],
      "execution_count": 0,
      "outputs": [
        {
          "output_type": "execute_result",
          "data": {
            "text/plain": [
              "tensor([[ 0.8415,  0.9093,  0.1411],\n",
              "        [-0.5440,  0.9129, -0.9880],\n",
              "        [-0.5064, -0.8733, -0.9998]])"
            ]
          },
          "metadata": {
            "tags": []
          },
          "execution_count": 49
        }
      ]
    },
    {
      "cell_type": "code",
      "metadata": {
        "colab_type": "code",
        "id": "0bYVYVV7YKAr",
        "outputId": "491b9750-dd02-410b-c335-a2ca11ed6164",
        "colab": {
          "base_uri": "https://localhost:8080/",
          "height": 71
        }
      },
      "source": [
        "a.tan()"
      ],
      "execution_count": 0,
      "outputs": [
        {
          "output_type": "execute_result",
          "data": {
            "text/plain": [
              "tensor([[ 1.5574, -2.1850, -0.1425],\n",
              "        [ 0.6484,  2.2372, -6.4053],\n",
              "        [-0.5872, -1.7925, 45.2447]])"
            ]
          },
          "metadata": {
            "tags": []
          },
          "execution_count": 50
        }
      ]
    },
    {
      "cell_type": "code",
      "metadata": {
        "colab_type": "code",
        "id": "c-rYL8HQYKAt",
        "outputId": "9707c725-0595-4d96-e4be-ce3a16cf3ab3",
        "colab": {
          "base_uri": "https://localhost:8080/",
          "height": 71
        }
      },
      "source": [
        "a.exp()"
      ],
      "execution_count": 0,
      "outputs": [
        {
          "output_type": "execute_result",
          "data": {
            "text/plain": [
              "tensor([[2.7183e+00, 7.3891e+00, 2.0086e+01],\n",
              "        [2.2026e+04, 4.8517e+08, 1.0686e+13],\n",
              "        [       inf,        inf,        inf]])"
            ]
          },
          "metadata": {
            "tags": []
          },
          "execution_count": 51
        }
      ]
    },
    {
      "cell_type": "code",
      "metadata": {
        "colab_type": "code",
        "id": "EbiCDYUzYKAw",
        "outputId": "ec4a656d-8205-4953-d9c6-60ed24c3d81f",
        "colab": {
          "base_uri": "https://localhost:8080/",
          "height": 71
        }
      },
      "source": [
        "a.log()"
      ],
      "execution_count": 0,
      "outputs": [
        {
          "output_type": "execute_result",
          "data": {
            "text/plain": [
              "tensor([[0.0000, 0.6931, 1.0986],\n",
              "        [2.3026, 2.9957, 3.4012],\n",
              "        [4.6052, 5.2983, 5.7038]])"
            ]
          },
          "metadata": {
            "tags": []
          },
          "execution_count": 52
        }
      ]
    },
    {
      "cell_type": "code",
      "metadata": {
        "colab_type": "code",
        "id": "yh1sySpiYKAy",
        "outputId": "2f657616-7636-4876-cba8-46f2086cc12d",
        "colab": {
          "base_uri": "https://localhost:8080/",
          "height": 71
        }
      },
      "source": [
        "b = -a\n",
        "b"
      ],
      "execution_count": 0,
      "outputs": [
        {
          "output_type": "execute_result",
          "data": {
            "text/plain": [
              "tensor([[  -1.,   -2.,   -3.],\n",
              "        [ -10.,  -20.,  -30.],\n",
              "        [-100., -200., -300.]])"
            ]
          },
          "metadata": {
            "tags": []
          },
          "execution_count": 53
        }
      ]
    },
    {
      "cell_type": "code",
      "metadata": {
        "colab_type": "code",
        "id": "PNU0UxqIYKA2",
        "outputId": "870a2f7d-9fee-4a76-c1e3-f1e95a127436",
        "colab": {
          "base_uri": "https://localhost:8080/",
          "height": 71
        }
      },
      "source": [
        "b.abs()"
      ],
      "execution_count": 0,
      "outputs": [
        {
          "output_type": "execute_result",
          "data": {
            "text/plain": [
              "tensor([[  1.,   2.,   3.],\n",
              "        [ 10.,  20.,  30.],\n",
              "        [100., 200., 300.]])"
            ]
          },
          "metadata": {
            "tags": []
          },
          "execution_count": 55
        }
      ]
    },
    {
      "cell_type": "markdown",
      "metadata": {
        "colab_type": "text",
        "id": "eqERQjISYKA9"
      },
      "source": [
        "* The sum, mean, max, min:"
      ]
    },
    {
      "cell_type": "code",
      "metadata": {
        "colab_type": "code",
        "id": "HLmJGdl9YKA-",
        "outputId": "cfded1b0-f89a-4f8a-dd4b-84e4323ec256",
        "colab": {
          "base_uri": "https://localhost:8080/",
          "height": 35
        }
      },
      "source": [
        "a.sum()"
      ],
      "execution_count": 0,
      "outputs": [
        {
          "output_type": "execute_result",
          "data": {
            "text/plain": [
              "tensor(666.)"
            ]
          },
          "metadata": {
            "tags": []
          },
          "execution_count": 56
        }
      ]
    },
    {
      "cell_type": "code",
      "metadata": {
        "colab_type": "code",
        "id": "ervIuNGnYKBD",
        "outputId": "d524ab85-b9f0-48e9-d6b5-57b0d681deb2",
        "colab": {
          "base_uri": "https://localhost:8080/",
          "height": 35
        }
      },
      "source": [
        "a.mean()"
      ],
      "execution_count": 0,
      "outputs": [
        {
          "output_type": "execute_result",
          "data": {
            "text/plain": [
              "tensor(74.)"
            ]
          },
          "metadata": {
            "tags": []
          },
          "execution_count": 57
        }
      ]
    },
    {
      "cell_type": "markdown",
      "metadata": {
        "colab_type": "text",
        "id": "1qxkdUQ2YKBF"
      },
      "source": [
        "Along axis:"
      ]
    },
    {
      "cell_type": "code",
      "metadata": {
        "id": "OzU2H7jBbdS-",
        "colab_type": "code",
        "outputId": "007e137c-f5bb-4b44-df9f-00a1a06da38d",
        "colab": {
          "base_uri": "https://localhost:8080/",
          "height": 71
        }
      },
      "source": [
        "a"
      ],
      "execution_count": 0,
      "outputs": [
        {
          "output_type": "execute_result",
          "data": {
            "text/plain": [
              "tensor([[  1.,   2.,   3.],\n",
              "        [ 10.,  20.,  30.],\n",
              "        [100., 200., 300.]])"
            ]
          },
          "metadata": {
            "tags": []
          },
          "execution_count": 67
        }
      ]
    },
    {
      "cell_type": "code",
      "metadata": {
        "colab_type": "code",
        "id": "cc6RjJYeYKBG",
        "outputId": "e57e409a-ff4e-4783-8ea6-486639207ecc",
        "colab": {
          "base_uri": "https://localhost:8080/",
          "height": 35
        }
      },
      "source": [
        "a.sum(dim=0)"
      ],
      "execution_count": 0,
      "outputs": [
        {
          "output_type": "execute_result",
          "data": {
            "text/plain": [
              "tensor([111., 222., 333.])"
            ]
          },
          "metadata": {
            "tags": []
          },
          "execution_count": 68
        }
      ]
    },
    {
      "cell_type": "code",
      "metadata": {
        "colab_type": "code",
        "id": "Dgi5BmhOYKBJ",
        "outputId": "9da084bf-6504-40a8-c448-6bc144465b0d",
        "colab": {
          "base_uri": "https://localhost:8080/",
          "height": 35
        }
      },
      "source": [
        "a.sum(1)"
      ],
      "execution_count": 0,
      "outputs": [
        {
          "output_type": "execute_result",
          "data": {
            "text/plain": [
              "tensor([  6.,  60., 600.])"
            ]
          },
          "metadata": {
            "tags": []
          },
          "execution_count": 69
        }
      ]
    },
    {
      "cell_type": "code",
      "metadata": {
        "colab_type": "code",
        "id": "-tIkcTENYKBK",
        "outputId": "0f997262-0c80-4956-a640-a285ed9e5028",
        "colab": {
          "base_uri": "https://localhost:8080/",
          "height": 35
        }
      },
      "source": [
        "a.max()"
      ],
      "execution_count": 0,
      "outputs": [
        {
          "output_type": "execute_result",
          "data": {
            "text/plain": [
              "tensor(300.)"
            ]
          },
          "metadata": {
            "tags": []
          },
          "execution_count": 70
        }
      ]
    },
    {
      "cell_type": "code",
      "metadata": {
        "colab_type": "code",
        "id": "V4U_LyyPYKBL",
        "outputId": "656889f0-e1bf-4478-c2d0-107a1a9766bf",
        "colab": {
          "base_uri": "https://localhost:8080/",
          "height": 35
        }
      },
      "source": [
        "a.max(0)"
      ],
      "execution_count": 0,
      "outputs": [
        {
          "output_type": "execute_result",
          "data": {
            "text/plain": [
              "torch.return_types.max(values=tensor([100., 200., 300.]), indices=tensor([2, 2, 2]))"
            ]
          },
          "metadata": {
            "tags": []
          },
          "execution_count": 74
        }
      ]
    },
    {
      "cell_type": "code",
      "metadata": {
        "colab_type": "code",
        "id": "TSqmVtWjYKBO",
        "outputId": "df36b2d3-0780-494f-f001-628561bcb00c",
        "colab": {
          "base_uri": "https://localhost:8080/",
          "height": 35
        }
      },
      "source": [
        "a.min()"
      ],
      "execution_count": 0,
      "outputs": [
        {
          "output_type": "execute_result",
          "data": {
            "text/plain": [
              "tensor(1.)"
            ]
          },
          "metadata": {
            "tags": []
          },
          "execution_count": 75
        }
      ]
    },
    {
      "cell_type": "code",
      "metadata": {
        "colab_type": "code",
        "id": "OeA2hlZ2YKBP",
        "outputId": "2c0489ce-745a-42d4-a90d-3cbad487777c",
        "colab": {
          "base_uri": "https://localhost:8080/",
          "height": 35
        }
      },
      "source": [
        "a.min(0)"
      ],
      "execution_count": 0,
      "outputs": [
        {
          "output_type": "execute_result",
          "data": {
            "text/plain": [
              "torch.return_types.min(values=tensor([1., 2., 3.]), indices=tensor([0, 0, 0]))"
            ]
          },
          "metadata": {
            "tags": []
          },
          "execution_count": 76
        }
      ]
    },
    {
      "cell_type": "markdown",
      "metadata": {
        "colab_type": "text",
        "id": "Ys-9hnr4YKBS"
      },
      "source": [
        "**Note:** the second tensor returned by `.max()` and `.min()` contains the indices of max/min elements along this axis. E.g. in that case `a.min()` returned `(1, 2, 3)` which are the minimum elements along 0 axis (along columns) and their indices along 0 axis are `(0, 0, 0)`."
      ]
    },
    {
      "cell_type": "markdown",
      "metadata": {
        "colab_type": "text",
        "id": "kepFeTZ0YKBV"
      },
      "source": [
        "**Matrix operations**:"
      ]
    },
    {
      "cell_type": "markdown",
      "metadata": {
        "colab_type": "text",
        "id": "7RYm3mdrYKBX"
      },
      "source": [
        "* Transpose a tensor:"
      ]
    },
    {
      "cell_type": "code",
      "metadata": {
        "colab_type": "code",
        "id": "T8-1TSkeYKBY",
        "outputId": "7f0bbfa9-6706-40b2-81b9-547e4d716d87",
        "colab": {
          "base_uri": "https://localhost:8080/",
          "height": 71
        }
      },
      "source": [
        "a = torch.FloatTensor([[1, 2, 3], [10, 20, 30], [100, 200, 300]])\n",
        "a"
      ],
      "execution_count": 0,
      "outputs": [
        {
          "output_type": "execute_result",
          "data": {
            "text/plain": [
              "tensor([[  1.,   2.,   3.],\n",
              "        [ 10.,  20.,  30.],\n",
              "        [100., 200., 300.]])"
            ]
          },
          "metadata": {
            "tags": []
          },
          "execution_count": 85
        }
      ]
    },
    {
      "cell_type": "code",
      "metadata": {
        "colab_type": "code",
        "id": "HSAZwai7YKBa",
        "outputId": "4ff0103b-dec0-453c-ecf2-2ffe913c89a1",
        "colab": {
          "base_uri": "https://localhost:8080/",
          "height": 71
        }
      },
      "source": [
        "a.t()"
      ],
      "execution_count": 0,
      "outputs": [
        {
          "output_type": "execute_result",
          "data": {
            "text/plain": [
              "tensor([[  1.,  10., 100.],\n",
              "        [  2.,  20., 200.],\n",
              "        [  3.,  30., 300.]])"
            ]
          },
          "metadata": {
            "tags": []
          },
          "execution_count": 86
        }
      ]
    },
    {
      "cell_type": "markdown",
      "metadata": {
        "colab_type": "text",
        "id": "QqsPkleRYKBd"
      },
      "source": [
        "It is not not the inplace operation too:"
      ]
    },
    {
      "cell_type": "code",
      "metadata": {
        "colab_type": "code",
        "id": "NRPamd2EYKBe",
        "outputId": "984d1d77-60e0-4594-8b1a-4d74e1955193",
        "colab": {
          "base_uri": "https://localhost:8080/",
          "height": 71
        }
      },
      "source": [
        "a"
      ],
      "execution_count": 0,
      "outputs": [
        {
          "output_type": "execute_result",
          "data": {
            "text/plain": [
              "tensor([[  1.,   2.,   3.],\n",
              "        [ 10.,  20.,  30.],\n",
              "        [100., 200., 300.]])"
            ]
          },
          "metadata": {
            "tags": []
          },
          "execution_count": 87
        }
      ]
    },
    {
      "cell_type": "markdown",
      "metadata": {
        "colab_type": "text",
        "id": "q8YhoxHPYKBh"
      },
      "source": [
        "* Dot product of vectors:"
      ]
    },
    {
      "cell_type": "code",
      "metadata": {
        "colab_type": "code",
        "id": "i1pRtl7HYKBi",
        "colab": {}
      },
      "source": [
        "a = torch.FloatTensor([1, 2, 3, 4, 5, 6])\n",
        "b = torch.FloatTensor([-1, -2, -4, -6, -8, -10])"
      ],
      "execution_count": 0,
      "outputs": []
    },
    {
      "cell_type": "code",
      "metadata": {
        "colab_type": "code",
        "id": "qcS-28dwYKBp",
        "outputId": "c0ce93f4-27e2-4b48-e487-c166238cce42",
        "colab": {
          "base_uri": "https://localhost:8080/",
          "height": 35
        }
      },
      "source": [
        "a.dot(b)"
      ],
      "execution_count": 0,
      "outputs": [
        {
          "output_type": "execute_result",
          "data": {
            "text/plain": [
              "tensor(-141.)"
            ]
          },
          "metadata": {
            "tags": []
          },
          "execution_count": 89
        }
      ]
    },
    {
      "cell_type": "code",
      "metadata": {
        "id": "sBiRR1V3LP-r",
        "colab_type": "code",
        "outputId": "723aa0ac-47c0-47a8-cb67-f71f68156163",
        "colab": {
          "base_uri": "https://localhost:8080/",
          "height": 35
        }
      },
      "source": [
        "a.shape, b.shape"
      ],
      "execution_count": 0,
      "outputs": [
        {
          "output_type": "execute_result",
          "data": {
            "text/plain": [
              "(torch.Size([6]), torch.Size([6]))"
            ]
          },
          "metadata": {
            "tags": []
          },
          "execution_count": 90
        }
      ]
    },
    {
      "cell_type": "code",
      "metadata": {
        "colab_type": "code",
        "id": "MXyhOelQYKBs",
        "outputId": "90a03545-2ef3-4aff-a7f2-445b86a1d64f",
        "colab": {
          "base_uri": "https://localhost:8080/",
          "height": 35
        }
      },
      "source": [
        "a @ b"
      ],
      "execution_count": 0,
      "outputs": [
        {
          "output_type": "execute_result",
          "data": {
            "text/plain": [
              "tensor(-141.)"
            ]
          },
          "metadata": {
            "tags": []
          },
          "execution_count": 91
        }
      ]
    },
    {
      "cell_type": "code",
      "metadata": {
        "colab_type": "code",
        "id": "sxqg4xhoYKBt",
        "outputId": "47bdaaaf-e961-480c-8f0c-b09a9a11dd90",
        "colab": {
          "base_uri": "https://localhost:8080/",
          "height": 35
        }
      },
      "source": [
        "type(a)"
      ],
      "execution_count": 0,
      "outputs": [
        {
          "output_type": "execute_result",
          "data": {
            "text/plain": [
              "torch.Tensor"
            ]
          },
          "metadata": {
            "tags": []
          },
          "execution_count": 92
        }
      ]
    },
    {
      "cell_type": "code",
      "metadata": {
        "colab_type": "code",
        "id": "_v2ZjPqDYKBz",
        "outputId": "41926328-115b-40bc-c46e-948f535ef599",
        "colab": {
          "base_uri": "https://localhost:8080/",
          "height": 35
        }
      },
      "source": [
        "type(b)"
      ],
      "execution_count": 0,
      "outputs": [
        {
          "output_type": "execute_result",
          "data": {
            "text/plain": [
              "torch.Tensor"
            ]
          },
          "metadata": {
            "tags": []
          },
          "execution_count": 93
        }
      ]
    },
    {
      "cell_type": "code",
      "metadata": {
        "colab_type": "code",
        "id": "UsWB9vTuYKB0",
        "outputId": "a46b46ce-c14e-4298-a5eb-f16641876cf1",
        "colab": {
          "base_uri": "https://localhost:8080/",
          "height": 35
        }
      },
      "source": [
        "type(a @ b)"
      ],
      "execution_count": 0,
      "outputs": [
        {
          "output_type": "execute_result",
          "data": {
            "text/plain": [
              "torch.Tensor"
            ]
          },
          "metadata": {
            "tags": []
          },
          "execution_count": 94
        }
      ]
    },
    {
      "cell_type": "markdown",
      "metadata": {
        "colab_type": "text",
        "id": "KSrnLwkGYKB1"
      },
      "source": [
        "* Matrix product:"
      ]
    },
    {
      "cell_type": "code",
      "metadata": {
        "colab_type": "code",
        "id": "ViurnbjPYKB2",
        "colab": {}
      },
      "source": [
        "a = torch.FloatTensor([[1, 2, 3], [10, 20, 30], [100, 200, 300]])\n",
        "b = torch.FloatTensor([[-1, -2, -3], [-10, -20, -30], [100, 200, 300]])"
      ],
      "execution_count": 0,
      "outputs": []
    },
    {
      "cell_type": "code",
      "metadata": {
        "colab_type": "code",
        "id": "5TrCnfWiYKB3",
        "outputId": "5e126c0a-a9da-4f16-d588-4fd4c35cc768",
        "colab": {
          "base_uri": "https://localhost:8080/",
          "height": 71
        }
      },
      "source": [
        "a.mm(b)"
      ],
      "execution_count": 0,
      "outputs": [
        {
          "output_type": "execute_result",
          "data": {
            "text/plain": [
              "tensor([[  279.,   558.,   837.],\n",
              "        [ 2790.,  5580.,  8370.],\n",
              "        [27900., 55800., 83700.]])"
            ]
          },
          "metadata": {
            "tags": []
          },
          "execution_count": 96
        }
      ]
    },
    {
      "cell_type": "code",
      "metadata": {
        "colab_type": "code",
        "id": "HMzIz-_MYKB4",
        "outputId": "990932b6-a0e6-4c18-9e41-b293e138937e",
        "colab": {
          "base_uri": "https://localhost:8080/",
          "height": 71
        }
      },
      "source": [
        "a @ b"
      ],
      "execution_count": 0,
      "outputs": [
        {
          "output_type": "execute_result",
          "data": {
            "text/plain": [
              "tensor([[  279.,   558.,   837.],\n",
              "        [ 2790.,  5580.,  8370.],\n",
              "        [27900., 55800., 83700.]])"
            ]
          },
          "metadata": {
            "tags": []
          },
          "execution_count": 97
        }
      ]
    },
    {
      "cell_type": "markdown",
      "metadata": {
        "colab_type": "text",
        "id": "Ig2pr52xYKB5"
      },
      "source": [
        "Remain unchanged:"
      ]
    },
    {
      "cell_type": "code",
      "metadata": {
        "colab_type": "code",
        "id": "22QOePSyYKB6",
        "outputId": "0583a6c9-e62d-4663-fecf-2c7b8a28d499",
        "colab": {
          "base_uri": "https://localhost:8080/",
          "height": 71
        }
      },
      "source": [
        "a"
      ],
      "execution_count": 0,
      "outputs": [
        {
          "output_type": "execute_result",
          "data": {
            "text/plain": [
              "tensor([[  1.,   2.,   3.],\n",
              "        [ 10.,  20.,  30.],\n",
              "        [100., 200., 300.]])"
            ]
          },
          "metadata": {
            "tags": []
          },
          "execution_count": 98
        }
      ]
    },
    {
      "cell_type": "code",
      "metadata": {
        "colab_type": "code",
        "id": "JHr6eKADYKB6",
        "outputId": "4c5c743f-107c-4b71-940f-dd5d5bf50dac",
        "colab": {
          "base_uri": "https://localhost:8080/",
          "height": 71
        }
      },
      "source": [
        "b"
      ],
      "execution_count": 0,
      "outputs": [
        {
          "output_type": "execute_result",
          "data": {
            "text/plain": [
              "tensor([[ -1.,  -2.,  -3.],\n",
              "        [-10., -20., -30.],\n",
              "        [100., 200., 300.]])"
            ]
          },
          "metadata": {
            "tags": []
          },
          "execution_count": 99
        }
      ]
    },
    {
      "cell_type": "code",
      "metadata": {
        "colab_type": "code",
        "id": "vtuvt20-YKB8",
        "colab": {}
      },
      "source": [
        "a = torch.FloatTensor([[1, 2, 3], [10, 20, 30], [100, 200, 300]])\n",
        "b = torch.FloatTensor([[-1], [-10], [100]])"
      ],
      "execution_count": 0,
      "outputs": []
    },
    {
      "cell_type": "code",
      "metadata": {
        "colab_type": "code",
        "id": "fdDnu5XjYKB9",
        "outputId": "15d6398c-8de2-4022-fb83-f9045851e7f7",
        "colab": {
          "base_uri": "https://localhost:8080/",
          "height": 35
        }
      },
      "source": [
        "print(a.shape, b.shape)"
      ],
      "execution_count": 0,
      "outputs": [
        {
          "output_type": "stream",
          "text": [
            "torch.Size([3, 3]) torch.Size([3, 1])\n"
          ],
          "name": "stdout"
        }
      ]
    },
    {
      "cell_type": "code",
      "metadata": {
        "colab_type": "code",
        "id": "oD4N4WN8YKB_",
        "outputId": "c37c688a-7491-4176-a174-bf5227595003",
        "colab": {
          "base_uri": "https://localhost:8080/",
          "height": 71
        }
      },
      "source": [
        "a @ b"
      ],
      "execution_count": 0,
      "outputs": [
        {
          "output_type": "execute_result",
          "data": {
            "text/plain": [
              "tensor([[  279.],\n",
              "        [ 2790.],\n",
              "        [27900.]])"
            ]
          },
          "metadata": {
            "tags": []
          },
          "execution_count": 102
        }
      ]
    },
    {
      "cell_type": "markdown",
      "metadata": {
        "colab_type": "text",
        "id": "va9w-BavYKCB"
      },
      "source": [
        "If we unroll the tensor `b` in an array (`torch.view(-1)`) the multiplication would be like with the column:"
      ]
    },
    {
      "cell_type": "code",
      "metadata": {
        "colab_type": "code",
        "id": "V7KsdYcBYKCC",
        "outputId": "76fb0b6b-3d49-4827-b459-922797b82f29",
        "colab": {
          "base_uri": "https://localhost:8080/",
          "height": 71
        }
      },
      "source": [
        "b"
      ],
      "execution_count": 0,
      "outputs": [
        {
          "output_type": "execute_result",
          "data": {
            "text/plain": [
              "tensor([[ -1.],\n",
              "        [-10.],\n",
              "        [100.]])"
            ]
          },
          "metadata": {
            "tags": []
          },
          "execution_count": 103
        }
      ]
    },
    {
      "cell_type": "code",
      "metadata": {
        "colab_type": "code",
        "id": "t7k6spayYKCF",
        "outputId": "731bd8e1-c629-43c2-cb7f-a93df3ea4b1b",
        "colab": {
          "base_uri": "https://localhost:8080/",
          "height": 35
        }
      },
      "source": [
        "b.view(-1)"
      ],
      "execution_count": 0,
      "outputs": [
        {
          "output_type": "execute_result",
          "data": {
            "text/plain": [
              "tensor([ -1., -10., 100.])"
            ]
          },
          "metadata": {
            "tags": []
          },
          "execution_count": 104
        }
      ]
    },
    {
      "cell_type": "code",
      "metadata": {
        "colab_type": "code",
        "id": "8u8xQ20bYKCH",
        "outputId": "f5718cb5-a40d-4b58-f0ef-8c37af3f3d12",
        "colab": {
          "base_uri": "https://localhost:8080/",
          "height": 35
        }
      },
      "source": [
        "a @ b.view(-1)"
      ],
      "execution_count": 0,
      "outputs": [
        {
          "output_type": "execute_result",
          "data": {
            "text/plain": [
              "tensor([  279.,  2790., 27900.])"
            ]
          },
          "metadata": {
            "tags": []
          },
          "execution_count": 105
        }
      ]
    },
    {
      "cell_type": "code",
      "metadata": {
        "colab_type": "code",
        "id": "QvCu1sJEYKCJ",
        "outputId": "13487f42-6664-413c-976d-2d9d110aa31f",
        "colab": {
          "base_uri": "https://localhost:8080/",
          "height": 35
        }
      },
      "source": [
        "a.mv(b.view(-1))"
      ],
      "execution_count": 0,
      "outputs": [
        {
          "output_type": "execute_result",
          "data": {
            "text/plain": [
              "tensor([  279.,  2790., 27900.])"
            ]
          },
          "metadata": {
            "tags": []
          },
          "execution_count": 84
        }
      ]
    },
    {
      "cell_type": "markdown",
      "metadata": {
        "colab_type": "text",
        "id": "gZitrCN6YKCL"
      },
      "source": [
        "**From NumPu to PyTorch conversion**:"
      ]
    },
    {
      "cell_type": "code",
      "metadata": {
        "colab_type": "code",
        "id": "bnLS4CGXYKCL",
        "outputId": "d8f05ef5-fbaa-470a-f6c0-5ace529a7c85",
        "colab": {
          "base_uri": "https://localhost:8080/",
          "height": 71
        }
      },
      "source": [
        "import numpy as np\n",
        "\n",
        "a = np.random.rand(3, 3)\n",
        "a"
      ],
      "execution_count": 0,
      "outputs": [
        {
          "output_type": "execute_result",
          "data": {
            "text/plain": [
              "array([[0.2069768 , 0.16812134, 0.17994953],\n",
              "       [0.01667864, 0.34318491, 0.93533063],\n",
              "       [0.74401255, 0.34548992, 0.74053324]])"
            ]
          },
          "metadata": {
            "tags": []
          },
          "execution_count": 107
        }
      ]
    },
    {
      "cell_type": "code",
      "metadata": {
        "colab_type": "code",
        "id": "PXge57waYKCM",
        "outputId": "e5f02803-279e-4019-d91a-3b0737d48f3d",
        "colab": {
          "base_uri": "https://localhost:8080/",
          "height": 71
        }
      },
      "source": [
        "b = torch.from_numpy(a)\n",
        "b"
      ],
      "execution_count": 0,
      "outputs": [
        {
          "output_type": "execute_result",
          "data": {
            "text/plain": [
              "tensor([[0.2070, 0.1681, 0.1799],\n",
              "        [0.0167, 0.3432, 0.9353],\n",
              "        [0.7440, 0.3455, 0.7405]], dtype=torch.float64)"
            ]
          },
          "metadata": {
            "tags": []
          },
          "execution_count": 108
        }
      ]
    },
    {
      "cell_type": "markdown",
      "metadata": {
        "colab_type": "text",
        "id": "Nvcr3ymPYKCN"
      },
      "source": [
        "**NOTE!** `a` and `b` have the same data storage, so the changes in one tensor will lead to the changes in another:"
      ]
    },
    {
      "cell_type": "code",
      "metadata": {
        "colab_type": "code",
        "id": "0N_ZW6TQYKCN",
        "outputId": "617069ea-4e4a-445c-c1f3-e9a45a58fad2",
        "colab": {
          "base_uri": "https://localhost:8080/",
          "height": 71
        }
      },
      "source": [
        "b -= b\n",
        "b"
      ],
      "execution_count": 0,
      "outputs": [
        {
          "output_type": "execute_result",
          "data": {
            "text/plain": [
              "tensor([[0., 0., 0.],\n",
              "        [0., 0., 0.],\n",
              "        [0., 0., 0.]], dtype=torch.float64)"
            ]
          },
          "metadata": {
            "tags": []
          },
          "execution_count": 109
        }
      ]
    },
    {
      "cell_type": "code",
      "metadata": {
        "colab_type": "code",
        "id": "wzUnCKsiYKCP",
        "outputId": "3d58d50c-5f13-48cf-94fa-c9feb30dba37",
        "colab": {
          "base_uri": "https://localhost:8080/",
          "height": 71
        }
      },
      "source": [
        "a"
      ],
      "execution_count": 0,
      "outputs": [
        {
          "output_type": "execute_result",
          "data": {
            "text/plain": [
              "array([[0., 0., 0.],\n",
              "       [0., 0., 0.],\n",
              "       [0., 0., 0.]])"
            ]
          },
          "metadata": {
            "tags": []
          },
          "execution_count": 110
        }
      ]
    },
    {
      "cell_type": "markdown",
      "metadata": {
        "colab_type": "text",
        "id": "Al73RqKSYKCR"
      },
      "source": [
        "**From PyTorch to NumPy conversion:**"
      ]
    },
    {
      "cell_type": "code",
      "metadata": {
        "colab_type": "code",
        "id": "u5rngw4vYKCR",
        "outputId": "d0d479ba-e658-40c0-d6e7-377099f9df47",
        "colab": {
          "base_uri": "https://localhost:8080/",
          "height": 142
        }
      },
      "source": [
        "a = torch.FloatTensor(2, 3, 4)\n",
        "a"
      ],
      "execution_count": 0,
      "outputs": [
        {
          "output_type": "execute_result",
          "data": {
            "text/plain": [
              "tensor([[[3.7480e-36, 0.0000e+00, 7.0065e-44, 6.7262e-44],\n",
              "         [6.3058e-44, 6.7262e-44, 7.2868e-44, 6.3058e-44],\n",
              "         [7.0065e-44, 7.1466e-44, 1.1771e-43, 6.8664e-44]],\n",
              "\n",
              "        [[7.0065e-44, 8.1275e-44, 7.2868e-44, 6.7262e-44],\n",
              "         [8.1275e-44, 7.2868e-44, 7.7071e-44, 6.4460e-44],\n",
              "         [7.9874e-44, 7.5670e-44, 7.9874e-44, 7.4269e-44]]])"
            ]
          },
          "metadata": {
            "tags": []
          },
          "execution_count": 111
        }
      ]
    },
    {
      "cell_type": "code",
      "metadata": {
        "colab_type": "code",
        "id": "yjK68Kk-YKCS",
        "outputId": "e87adfe4-1692-43ae-e051-5a317d511db2",
        "colab": {
          "base_uri": "https://localhost:8080/",
          "height": 35
        }
      },
      "source": [
        "type(a)"
      ],
      "execution_count": 0,
      "outputs": [
        {
          "output_type": "execute_result",
          "data": {
            "text/plain": [
              "torch.Tensor"
            ]
          },
          "metadata": {
            "tags": []
          },
          "execution_count": 112
        }
      ]
    },
    {
      "cell_type": "code",
      "metadata": {
        "colab_type": "code",
        "id": "viLUF7gQYKCU",
        "outputId": "471bfd35-32d2-4359-aad0-8910d1627f13",
        "colab": {
          "base_uri": "https://localhost:8080/",
          "height": 160
        }
      },
      "source": [
        "x = a.numpy()\n",
        "x"
      ],
      "execution_count": 0,
      "outputs": [
        {
          "output_type": "execute_result",
          "data": {
            "text/plain": [
              "array([[[3.7480362e-36, 0.0000000e+00, 7.0064923e-44, 6.7262326e-44],\n",
              "        [6.3058431e-44, 6.7262326e-44, 7.2867520e-44, 6.3058431e-44],\n",
              "        [7.0064923e-44, 7.1466222e-44, 1.1770907e-43, 6.8663625e-44]],\n",
              "\n",
              "       [[7.0064923e-44, 8.1275311e-44, 7.2867520e-44, 6.7262326e-44],\n",
              "        [8.1275311e-44, 7.2867520e-44, 7.7071416e-44, 6.4459729e-44],\n",
              "        [7.9874012e-44, 7.5670117e-44, 7.9874012e-44, 7.4268819e-44]]],\n",
              "      dtype=float32)"
            ]
          },
          "metadata": {
            "tags": []
          },
          "execution_count": 113
        }
      ]
    },
    {
      "cell_type": "code",
      "metadata": {
        "colab_type": "code",
        "id": "9HxgiLxKYKCV",
        "outputId": "c6d6b25f-b98a-4e26-b500-e19f1fdc93de",
        "colab": {
          "base_uri": "https://localhost:8080/",
          "height": 35
        }
      },
      "source": [
        "x.shape"
      ],
      "execution_count": 0,
      "outputs": [
        {
          "output_type": "execute_result",
          "data": {
            "text/plain": [
              "(2, 3, 4)"
            ]
          },
          "metadata": {
            "tags": []
          },
          "execution_count": 114
        }
      ]
    },
    {
      "cell_type": "code",
      "metadata": {
        "colab_type": "code",
        "id": "SdW5bhmeYKCX",
        "outputId": "dcd5339b-1719-42d7-de4f-d2d56563e832",
        "colab": {
          "base_uri": "https://localhost:8080/",
          "height": 35
        }
      },
      "source": [
        "type(x)"
      ],
      "execution_count": 0,
      "outputs": [
        {
          "output_type": "execute_result",
          "data": {
            "text/plain": [
              "numpy.ndarray"
            ]
          },
          "metadata": {
            "tags": []
          },
          "execution_count": 115
        }
      ]
    },
    {
      "cell_type": "code",
      "metadata": {
        "id": "GbCc-vnWDj1l",
        "colab_type": "code",
        "colab": {}
      },
      "source": [
        "x -= x"
      ],
      "execution_count": 0,
      "outputs": []
    },
    {
      "cell_type": "code",
      "metadata": {
        "id": "Ui-4DptBDlet",
        "colab_type": "code",
        "outputId": "c5081634-4375-42ee-ad5e-2549d592fd40",
        "colab": {
          "base_uri": "https://localhost:8080/",
          "height": 142
        }
      },
      "source": [
        "a"
      ],
      "execution_count": 0,
      "outputs": [
        {
          "output_type": "execute_result",
          "data": {
            "text/plain": [
              "tensor([[[0., 0., 0., 0.],\n",
              "         [0., 0., 0., 0.],\n",
              "         [0., 0., 0., 0.]],\n",
              "\n",
              "        [[0., 0., 0., 0.],\n",
              "         [0., 0., 0., 0.],\n",
              "         [0., 0., 0., 0.]]])"
            ]
          },
          "metadata": {
            "tags": []
          },
          "execution_count": 118
        }
      ]
    },
    {
      "cell_type": "markdown",
      "metadata": {
        "colab_type": "text",
        "id": "7-KS81rUYKCY"
      },
      "source": [
        "Let's write the `forward_pass(X, w)` ($w_0$ is a part of the $w$) for a single neuron (activation = sigmoid) using PyTorch:"
      ]
    },
    {
      "cell_type": "code",
      "metadata": {
        "colab_type": "code",
        "id": "vkaIwpn6YKCY",
        "colab": {}
      },
      "source": [
        "def forward_pass(X, w):\n",
        "    return torch.sigmoid(X @ w)"
      ],
      "execution_count": 0,
      "outputs": []
    },
    {
      "cell_type": "code",
      "metadata": {
        "colab_type": "code",
        "id": "VyqlDItxYKCZ",
        "outputId": "9876eb58-35ae-4c69-c03f-4954d502a783",
        "colab": {
          "base_uri": "https://localhost:8080/",
          "height": 71
        }
      },
      "source": [
        "X = torch.FloatTensor([[-5, 5], [2, 3], [1, -1]])\n",
        "w = torch.FloatTensor([[-0.5], [2.5]])\n",
        "result = forward_pass(X, w)\n",
        "print('result: {}'.format(result))"
      ],
      "execution_count": 0,
      "outputs": [
        {
          "output_type": "stream",
          "text": [
            "result: tensor([[1.0000],\n",
            "        [0.9985],\n",
            "        [0.0474]])\n"
          ],
          "name": "stdout"
        }
      ]
    },
    {
      "cell_type": "markdown",
      "metadata": {
        "colab_type": "text",
        "id": "MzLVLQ2GYKCa"
      },
      "source": [
        "<h3 style=\"text-align: center;\"><a href=\"https://ru.wikipedia.org/wiki/CUDA\">CUDA</a></h3>"
      ]
    },
    {
      "cell_type": "markdown",
      "metadata": {
        "colab_type": "text",
        "id": "PrIicAAiYKCa"
      },
      "source": [
        "[CUDA documentation](https://docs.nvidia.com/cuda/)"
      ]
    },
    {
      "cell_type": "markdown",
      "metadata": {
        "colab_type": "text",
        "id": "2nDkAG6NYKCa"
      },
      "source": [
        "We can use both CPU (Central Processing Unit) and GPU (Graphical Processing Unit) to make the computations with PyTorch. We can switch between them easily, this is one of the most important things in PyTorch framework."
      ]
    },
    {
      "cell_type": "code",
      "metadata": {
        "colab_type": "code",
        "id": "_0Nsl2IoYKCa",
        "outputId": "19065844-ca80-45df-80ec-287192d3d712",
        "colab": {
          "base_uri": "https://localhost:8080/",
          "height": 142
        }
      },
      "source": [
        "x = torch.FloatTensor(1024, 1024).uniform_()\n",
        "x"
      ],
      "execution_count": 0,
      "outputs": [
        {
          "output_type": "execute_result",
          "data": {
            "text/plain": [
              "tensor([[0.8562, 0.6641, 0.4994,  ..., 0.3401, 0.1454, 0.6265],\n",
              "        [0.5415, 0.7289, 0.0855,  ..., 0.3028, 0.9997, 0.3877],\n",
              "        [0.6656, 0.5603, 0.1466,  ..., 0.4426, 0.2110, 0.6984],\n",
              "        ...,\n",
              "        [0.5785, 0.7754, 0.9504,  ..., 0.7977, 0.0860, 0.4123],\n",
              "        [0.8365, 0.0744, 0.1284,  ..., 0.6541, 0.3681, 0.4002],\n",
              "        [0.2568, 0.4789, 0.0572,  ..., 0.9326, 0.4417, 0.6662]])"
            ]
          },
          "metadata": {
            "tags": []
          },
          "execution_count": 121
        }
      ]
    },
    {
      "cell_type": "code",
      "metadata": {
        "colab_type": "code",
        "id": "FVr5_SAdYKCb",
        "outputId": "44961093-e579-4847-e93b-248aa08429a2",
        "colab": {
          "base_uri": "https://localhost:8080/",
          "height": 35
        }
      },
      "source": [
        "x.is_cuda"
      ],
      "execution_count": 0,
      "outputs": [
        {
          "output_type": "execute_result",
          "data": {
            "text/plain": [
              "False"
            ]
          },
          "metadata": {
            "tags": []
          },
          "execution_count": 122
        }
      ]
    },
    {
      "cell_type": "markdown",
      "metadata": {
        "colab_type": "text",
        "id": "mAy8GGXAYKCd"
      },
      "source": [
        "Place a tensor on GPU:"
      ]
    },
    {
      "cell_type": "code",
      "metadata": {
        "colab_type": "code",
        "id": "6UGKZbfyYKCd",
        "colab": {}
      },
      "source": [
        "x = x.cuda()"
      ],
      "execution_count": 0,
      "outputs": []
    },
    {
      "cell_type": "code",
      "metadata": {
        "colab_type": "code",
        "id": "ue2SLd9nYKCd",
        "outputId": "46cf884f-db6f-48c7-b4be-0a343de18eda",
        "colab": {
          "base_uri": "https://localhost:8080/",
          "height": 160
        }
      },
      "source": [
        "x"
      ],
      "execution_count": 0,
      "outputs": [
        {
          "output_type": "execute_result",
          "data": {
            "text/plain": [
              "tensor([[0.8562, 0.6641, 0.4994,  ..., 0.3401, 0.1454, 0.6265],\n",
              "        [0.5415, 0.7289, 0.0855,  ..., 0.3028, 0.9997, 0.3877],\n",
              "        [0.6656, 0.5603, 0.1466,  ..., 0.4426, 0.2110, 0.6984],\n",
              "        ...,\n",
              "        [0.5785, 0.7754, 0.9504,  ..., 0.7977, 0.0860, 0.4123],\n",
              "        [0.8365, 0.0744, 0.1284,  ..., 0.6541, 0.3681, 0.4002],\n",
              "        [0.2568, 0.4789, 0.0572,  ..., 0.9326, 0.4417, 0.6662]],\n",
              "       device='cuda:0')"
            ]
          },
          "metadata": {
            "tags": []
          },
          "execution_count": 124
        }
      ]
    },
    {
      "cell_type": "code",
      "metadata": {
        "id": "qVVp6BnbD7fy",
        "colab_type": "code",
        "outputId": "bc6cda3e-8555-4cce-ffc8-ecfcaef591cf",
        "colab": {
          "base_uri": "https://localhost:8080/",
          "height": 160
        }
      },
      "source": [
        "device = torch.device(\"cuda:0\")\n",
        "x = x.to(device)\n",
        "x"
      ],
      "execution_count": 0,
      "outputs": [
        {
          "output_type": "execute_result",
          "data": {
            "text/plain": [
              "tensor([[0.8562, 0.6641, 0.4994,  ..., 0.3401, 0.1454, 0.6265],\n",
              "        [0.5415, 0.7289, 0.0855,  ..., 0.3028, 0.9997, 0.3877],\n",
              "        [0.6656, 0.5603, 0.1466,  ..., 0.4426, 0.2110, 0.6984],\n",
              "        ...,\n",
              "        [0.5785, 0.7754, 0.9504,  ..., 0.7977, 0.0860, 0.4123],\n",
              "        [0.8365, 0.0744, 0.1284,  ..., 0.6541, 0.3681, 0.4002],\n",
              "        [0.2568, 0.4789, 0.0572,  ..., 0.9326, 0.4417, 0.6662]],\n",
              "       device='cuda:0')"
            ]
          },
          "metadata": {
            "tags": []
          },
          "execution_count": 128
        }
      ]
    },
    {
      "cell_type": "markdown",
      "metadata": {
        "colab_type": "text",
        "id": "dI73B59PYKCg"
      },
      "source": [
        "Let's multiply two tensors on GPU and then move the result on the CPU:"
      ]
    },
    {
      "cell_type": "code",
      "metadata": {
        "colab_type": "code",
        "id": "KS4QxJJoYKCg",
        "colab": {}
      },
      "source": [
        "a = torch.FloatTensor(10000, 10000).uniform_()\n",
        "b = torch.FloatTensor(10000, 10000).uniform_()\n",
        "c = a.cuda().mul(b.cuda()).cpu()"
      ],
      "execution_count": 0,
      "outputs": []
    },
    {
      "cell_type": "code",
      "metadata": {
        "colab_type": "code",
        "id": "1ImlgEbwYKCg",
        "outputId": "8f39ccf9-4809-45d3-f2b4-191a03d7ad79",
        "colab": {
          "base_uri": "https://localhost:8080/",
          "height": 249
        }
      },
      "source": [
        "c"
      ],
      "execution_count": 0,
      "outputs": [
        {
          "output_type": "execute_result",
          "data": {
            "text/plain": [
              "tensor([[2.4229e-01, 4.1289e-03, 4.5920e-02,  ..., 1.7894e-02, 3.1893e-01,\n",
              "         1.8179e-01],\n",
              "        [2.7862e-03, 8.8109e-02, 5.3831e-02,  ..., 2.4278e-01, 6.5004e-01,\n",
              "         1.1770e-01],\n",
              "        [1.1085e-01, 2.1742e-01, 1.6675e-02,  ..., 4.9403e-02, 3.2265e-01,\n",
              "         1.6235e-01],\n",
              "        ...,\n",
              "        [2.4321e-01, 9.7193e-02, 3.7477e-01,  ..., 1.1962e-01, 4.7336e-04,\n",
              "         4.8361e-01],\n",
              "        [1.4049e-01, 3.0260e-01, 5.1957e-02,  ..., 2.3509e-01, 1.2687e-01,\n",
              "         1.7848e-02],\n",
              "        [9.7724e-02, 1.2180e-01, 3.9494e-01,  ..., 8.0266e-02, 3.5686e-01,\n",
              "         3.4035e-01]])"
            ]
          },
          "metadata": {
            "tags": []
          },
          "execution_count": 130
        }
      ]
    },
    {
      "cell_type": "code",
      "metadata": {
        "colab_type": "code",
        "id": "4DAN9MhDYKCh",
        "outputId": "ee40fd28-65f3-4b9f-91b2-426235403fdf",
        "colab": {
          "base_uri": "https://localhost:8080/",
          "height": 142
        }
      },
      "source": [
        "a"
      ],
      "execution_count": 0,
      "outputs": [
        {
          "output_type": "execute_result",
          "data": {
            "text/plain": [
              "tensor([[0.3586, 0.0819, 0.2896,  ..., 0.2889, 0.8950, 0.8133],\n",
              "        [0.0213, 0.7516, 0.1146,  ..., 0.5927, 0.8087, 0.8657],\n",
              "        [0.1173, 0.3382, 0.0448,  ..., 0.0645, 0.3421, 0.4383],\n",
              "        ...,\n",
              "        [0.4817, 0.4206, 0.5019,  ..., 0.4907, 0.0010, 0.8022],\n",
              "        [0.1893, 0.8160, 0.2534,  ..., 0.5558, 0.6209, 0.0602],\n",
              "        [0.3407, 0.2174, 0.8858,  ..., 0.2393, 0.4487, 0.5592]])"
            ]
          },
          "metadata": {
            "tags": []
          },
          "execution_count": 131
        }
      ]
    },
    {
      "cell_type": "markdown",
      "metadata": {
        "colab_type": "text",
        "id": "xWc-PiA9YKCi"
      },
      "source": [
        "Tensors placed on CPU and tensors placed on GPU are unavailable for each other:"
      ]
    },
    {
      "cell_type": "code",
      "metadata": {
        "colab_type": "code",
        "id": "1lwV1sgSYKCi",
        "colab": {}
      },
      "source": [
        "a = torch.FloatTensor(10000, 10000).uniform_().cpu()\n",
        "b = torch.FloatTensor(10000, 10000).uniform_().cuda()"
      ],
      "execution_count": 0,
      "outputs": []
    },
    {
      "cell_type": "code",
      "metadata": {
        "colab_type": "code",
        "id": "G6tYdYtTYKCj",
        "outputId": "383d9774-5166-4330-f491-2bea505c1039",
        "colab": {
          "base_uri": "https://localhost:8080/",
          "height": 170
        }
      },
      "source": [
        "a + b"
      ],
      "execution_count": 0,
      "outputs": [
        {
          "output_type": "error",
          "ename": "RuntimeError",
          "evalue": "ignored",
          "traceback": [
            "\u001b[0;31m---------------------------------------------------------------------------\u001b[0m",
            "\u001b[0;31mRuntimeError\u001b[0m                              Traceback (most recent call last)",
            "\u001b[0;32m<ipython-input-133-bd58363a63fc>\u001b[0m in \u001b[0;36m<module>\u001b[0;34m()\u001b[0m\n\u001b[0;32m----> 1\u001b[0;31m \u001b[0ma\u001b[0m \u001b[0;34m+\u001b[0m \u001b[0mb\u001b[0m\u001b[0;34m\u001b[0m\u001b[0;34m\u001b[0m\u001b[0m\n\u001b[0m",
            "\u001b[0;31mRuntimeError\u001b[0m: expected device cpu but got device cuda:0"
          ]
        }
      ]
    },
    {
      "cell_type": "markdown",
      "metadata": {
        "colab_type": "text",
        "id": "QEtwaIxDYKCk"
      },
      "source": [
        "Example of working with GPU:"
      ]
    },
    {
      "cell_type": "code",
      "metadata": {
        "colab_type": "code",
        "id": "bJgVfAbUYKCk",
        "scrolled": true,
        "outputId": "ed57d174-ce08-4c7d-9a5c-38e1c6e3cb70",
        "colab": {
          "base_uri": "https://localhost:8080/",
          "height": 1000
        }
      },
      "source": [
        "x = torch.FloatTensor(5, 5, 5).uniform_()\n",
        "\n",
        "# check for CUDA availability (NVIDIA GPU)\n",
        "if torch.cuda.is_available():\n",
        "    # get the CUDA device name\n",
        "    device = torch.device('cuda')          # CUDA-device object\n",
        "    y = torch.ones_like(x, device=device)  # create a tensor on GPU\n",
        "    x = x.to(device)                       # or just `.to(\"cuda\")`\n",
        "    z = x + y\n",
        "    print(z)\n",
        "    # you can set the type while `.to` operation\n",
        "    print(z.to(\"cpu\", torch.double))"
      ],
      "execution_count": 0,
      "outputs": [
        {
          "output_type": "stream",
          "text": [
            "tensor([[[1.5140, 1.0231, 1.8281, 1.3593, 1.6508],\n",
            "         [1.5164, 1.8821, 1.1802, 1.3838, 1.7658],\n",
            "         [1.0382, 1.9851, 1.3391, 1.7564, 1.2817],\n",
            "         [1.5740, 1.1488, 1.7046, 1.1057, 1.6573],\n",
            "         [1.2258, 1.8419, 1.5523, 1.3603, 1.1038]],\n",
            "\n",
            "        [[1.4282, 1.8374, 1.5804, 1.3971, 1.8998],\n",
            "         [1.9485, 1.7147, 1.9404, 1.5991, 1.7339],\n",
            "         [1.6755, 1.2787, 1.9185, 1.9049, 1.2092],\n",
            "         [1.3949, 1.8042, 1.5554, 1.9227, 1.2210],\n",
            "         [1.6103, 1.3036, 1.4496, 1.0387, 1.3075]],\n",
            "\n",
            "        [[1.0892, 1.0356, 1.2070, 1.1098, 1.8632],\n",
            "         [1.7394, 1.8587, 1.5643, 1.6230, 1.5596],\n",
            "         [1.5636, 1.1067, 1.5459, 1.3295, 1.9646],\n",
            "         [1.7575, 1.8048, 1.2460, 1.7233, 1.4020],\n",
            "         [1.5796, 1.8125, 1.8632, 1.3896, 1.5186]],\n",
            "\n",
            "        [[1.8522, 1.1483, 1.6325, 1.7424, 1.3111],\n",
            "         [1.7226, 1.2077, 1.2796, 1.1580, 1.7776],\n",
            "         [1.2122, 1.3551, 1.1634, 1.2421, 1.8803],\n",
            "         [1.8768, 1.9624, 1.0104, 1.8856, 1.6633],\n",
            "         [1.8840, 1.2786, 1.7589, 1.9486, 1.8369]],\n",
            "\n",
            "        [[1.6284, 1.0944, 1.7873, 1.9924, 1.6573],\n",
            "         [1.7915, 1.7635, 1.7244, 1.8018, 1.7579],\n",
            "         [1.6817, 1.0051, 1.7381, 1.0166, 1.9100],\n",
            "         [1.3893, 1.1069, 1.9104, 1.9708, 1.5891],\n",
            "         [1.7728, 1.3598, 1.5393, 1.3737, 1.8522]]], device='cuda:0')\n",
            "tensor([[[1.5140, 1.0231, 1.8281, 1.3593, 1.6508],\n",
            "         [1.5164, 1.8821, 1.1802, 1.3838, 1.7658],\n",
            "         [1.0382, 1.9851, 1.3391, 1.7564, 1.2817],\n",
            "         [1.5740, 1.1488, 1.7046, 1.1057, 1.6573],\n",
            "         [1.2258, 1.8419, 1.5523, 1.3603, 1.1038]],\n",
            "\n",
            "        [[1.4282, 1.8374, 1.5804, 1.3971, 1.8998],\n",
            "         [1.9485, 1.7147, 1.9404, 1.5991, 1.7339],\n",
            "         [1.6755, 1.2787, 1.9185, 1.9049, 1.2092],\n",
            "         [1.3949, 1.8042, 1.5554, 1.9227, 1.2210],\n",
            "         [1.6103, 1.3036, 1.4496, 1.0387, 1.3075]],\n",
            "\n",
            "        [[1.0892, 1.0356, 1.2070, 1.1098, 1.8632],\n",
            "         [1.7394, 1.8587, 1.5643, 1.6230, 1.5596],\n",
            "         [1.5636, 1.1067, 1.5459, 1.3295, 1.9646],\n",
            "         [1.7575, 1.8048, 1.2460, 1.7233, 1.4020],\n",
            "         [1.5796, 1.8125, 1.8632, 1.3896, 1.5186]],\n",
            "\n",
            "        [[1.8522, 1.1483, 1.6325, 1.7424, 1.3111],\n",
            "         [1.7226, 1.2077, 1.2796, 1.1580, 1.7776],\n",
            "         [1.2122, 1.3551, 1.1634, 1.2421, 1.8803],\n",
            "         [1.8768, 1.9624, 1.0104, 1.8856, 1.6633],\n",
            "         [1.8840, 1.2786, 1.7589, 1.9486, 1.8369]],\n",
            "\n",
            "        [[1.6284, 1.0944, 1.7873, 1.9924, 1.6573],\n",
            "         [1.7915, 1.7635, 1.7244, 1.8018, 1.7579],\n",
            "         [1.6817, 1.0051, 1.7381, 1.0166, 1.9100],\n",
            "         [1.3893, 1.1069, 1.9104, 1.9708, 1.5891],\n",
            "         [1.7728, 1.3598, 1.5393, 1.3737, 1.8522]]], dtype=torch.float64)\n"
          ],
          "name": "stdout"
        }
      ]
    },
    {
      "cell_type": "markdown",
      "metadata": {
        "colab_type": "text",
        "id": "iFg82MJIYKCl"
      },
      "source": [
        "<h3 style=\"text-align: center;\">Autograd<b></b></h3>"
      ]
    },
    {
      "cell_type": "markdown",
      "metadata": {
        "colab_type": "text",
        "id": "udpOWYK-YKCm"
      },
      "source": [
        "The autograd package provides automatic differentiation for all operations on Tensors. It is a define-by-run framework, which means that your backprop is defined by how your code is run, and that every single iteration can be different."
      ]
    },
    {
      "cell_type": "markdown",
      "metadata": {
        "colab_type": "text",
        "id": "AEDz971fYKCn"
      },
      "source": [
        "The examples:"
      ]
    },
    {
      "cell_type": "code",
      "metadata": {
        "colab_type": "code",
        "id": "rYWqXsAjYKCn",
        "colab": {}
      },
      "source": [
        "dtype = torch.float\n",
        "device = torch.device(\"cuda:0\")\n",
        "# device = torch.device(\"cuda:0\") # Uncomment this to run on GPU\n",
        "\n",
        "# N is batch size; D_in is input dimension;\n",
        "# H is hidden dimension; D_out is output dimension.\n",
        "N, D_in, H, D_out = 64, 3, 3, 10\n",
        "\n",
        "# Create random Tensors to hold input and outputs.\n",
        "# Setting requires_grad=False indicates that we do not need to compute gradients\n",
        "# with respect to these Tensors during the backward pass.\n",
        "x = torch.randn(N, D_in, device=device, dtype=dtype)\n",
        "y = torch.randn(N, D_out, device=device, dtype=dtype)\n",
        "\n",
        "# Create random Tensors for weights.\n",
        "# Setting requires_grad=True indicates that we want to compute gradients with\n",
        "# respect to these Tensors during the backward pass.\n",
        "w1 = torch.randn(D_in, H, device=device, dtype=dtype, requires_grad=True)\n",
        "w2 = torch.randn(H, D_out, device=device, dtype=dtype, requires_grad=True)\n",
        "\n",
        "# x = torch.FloatTensor(3, 1).uniform_()\n",
        "# y = torch.FloatTensor(3, 1).uniform_()\n",
        "# w = torch.FloatTensor(3, 3).uniform_() \n",
        "# b = torch.FloatTensor(3, 1).uniform_()\n",
        "\n",
        "y_pred = (x @ w1).clamp(min=0).mm(w2)\n",
        "\n",
        "loss = (y_pred - y).pow(2).sum()\n",
        "# calculate the gradients\n",
        "loss.backward()"
      ],
      "execution_count": 0,
      "outputs": []
    },
    {
      "cell_type": "code",
      "metadata": {
        "id": "T3vfuF-wXS8O",
        "colab_type": "code",
        "outputId": "4e36df15-33c9-45b7-b9b4-15dba6e6a4c2",
        "colab": {
          "base_uri": "https://localhost:8080/",
          "height": 35
        }
      },
      "source": [
        "print((y_pred - y).pow(2).sum())"
      ],
      "execution_count": 0,
      "outputs": [
        {
          "output_type": "stream",
          "text": [
            "tensor(1679.1619, device='cuda:0', grad_fn=<SumBackward0>)\n"
          ],
          "name": "stdout"
        }
      ]
    },
    {
      "cell_type": "code",
      "metadata": {
        "id": "jr19Gh3ZU2Ws",
        "colab_type": "code",
        "colab": {}
      },
      "source": [
        "loss.grad"
      ],
      "execution_count": 0,
      "outputs": []
    },
    {
      "cell_type": "code",
      "metadata": {
        "colab_type": "code",
        "id": "qLkn5C7JYKCp",
        "outputId": "b5020fc9-e14f-4f31-ef0d-fbfff96f95c3",
        "colab": {
          "base_uri": "https://localhost:8080/",
          "height": 71
        }
      },
      "source": [
        "w1.grad"
      ],
      "execution_count": 0,
      "outputs": [
        {
          "output_type": "execute_result",
          "data": {
            "text/plain": [
              "tensor([[  16.1759, -309.9114,  -65.7132],\n",
              "        [ -26.5568,  216.4308, -184.1913],\n",
              "        [ 613.4869, -592.5196, -329.3469]], device='cuda:0')"
            ]
          },
          "metadata": {
            "tags": []
          },
          "execution_count": 138
        }
      ]
    },
    {
      "cell_type": "code",
      "metadata": {
        "colab_type": "code",
        "id": "CYkrFbD5YKCq",
        "colab": {}
      },
      "source": [
        "x.grad"
      ],
      "execution_count": 0,
      "outputs": []
    },
    {
      "cell_type": "code",
      "metadata": {
        "colab_type": "code",
        "id": "ouMNnbtXYKCr",
        "colab": {}
      },
      "source": [
        "y.grad"
      ],
      "execution_count": 0,
      "outputs": []
    },
    {
      "cell_type": "markdown",
      "metadata": {
        "colab_type": "text",
        "id": "DIsqxWIvYKCs"
      },
      "source": [
        "**NOTE:** the gradients are placed into the `.grad` field of tensors (variables) on which gradients were calculated. Gradients *are not placed* in the variable `loss` here!"
      ]
    },
    {
      "cell_type": "code",
      "metadata": {
        "colab_type": "code",
        "id": "5wU_TFedYKCt",
        "outputId": "50fc65d7-bbe3-400c-c739-dcd7cd3f4a83",
        "colab": {
          "base_uri": "https://localhost:8080/",
          "height": 71
        }
      },
      "source": [
        "w1"
      ],
      "execution_count": 0,
      "outputs": [
        {
          "output_type": "execute_result",
          "data": {
            "text/plain": [
              "tensor([[ 0.0520, -0.5686, -0.1974],\n",
              "        [ 0.3640,  0.1550, -0.3118],\n",
              "        [ 1.0247, -1.3223, -0.9346]], device='cuda:0', requires_grad=True)"
            ]
          },
          "metadata": {
            "tags": []
          },
          "execution_count": 142
        }
      ]
    },
    {
      "cell_type": "markdown",
      "metadata": {
        "colab_type": "text",
        "id": "J094WEHQYKCv"
      },
      "source": [
        "<h3 style=\"text-align: center;\">Further reading:<b></b></h3>"
      ]
    },
    {
      "cell_type": "markdown",
      "metadata": {
        "colab_type": "text",
        "id": "ftVUTfvUYKCv"
      },
      "source": [
        "*1). Official PyTorch tutorials: https://pytorch.org/tutorials/beginner/blitz/tensor_tutorial.html#sphx-glr-beginner-blitz-tensor-tutorial-py*"
      ]
    },
    {
      "cell_type": "markdown",
      "metadata": {
        "colab_type": "text",
        "id": "ovymy5F6YKCw"
      },
      "source": [
        "*2). arXiv article about the deep learning frameworks comparison: https://arxiv.org/pdf/1511.06435.pdf*"
      ]
    },
    {
      "cell_type": "markdown",
      "metadata": {
        "colab_type": "text",
        "id": "VXEEowQAYKCx"
      },
      "source": [
        "*3). Useful repo with different tutorials: https://github.com/yunjey/pytorch-tutorial*"
      ]
    },
    {
      "cell_type": "markdown",
      "metadata": {
        "colab_type": "text",
        "id": "9cROZcrYYKC0"
      },
      "source": [
        "*4). Facebook AI Research (main contributor of PyTorch) website: https://facebook.ai/developers/tools*"
      ]
    }
  ]
}